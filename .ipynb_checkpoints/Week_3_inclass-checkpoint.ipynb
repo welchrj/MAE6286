{
 "cells": [
  {
   "cell_type": "code",
   "execution_count": 110,
   "metadata": {},
   "outputs": [],
   "source": [
    "import numpy as np\n",
    "from matplotlib import pyplot as plt\n",
    "%matplotlib inline"
   ]
  },
  {
   "cell_type": "code",
   "execution_count": 173,
   "metadata": {},
   "outputs": [],
   "source": [
    "g = 9.81 #m/s^2\n",
    "Cd = 1.0/40.0\n",
    "Cl = 1.0 \n",
    "vt = 30.0 #m/s\n",
    "vt2 = 30**2\n",
    "\n",
    "# Initial values\n",
    "v0 = vt\n",
    "theta0 = 0.0 #rad\n",
    "x0 = 0.0 #m\n",
    "y0 = 1000.0 #m\n",
    "\n",
    "#Final time\n",
    "T = 100\n",
    "dt = 0.1\n",
    "\n",
    "N = int(T/dt + 1)\n"
   ]
  },
  {
   "cell_type": "code",
   "execution_count": 174,
   "metadata": {},
   "outputs": [],
   "source": [
    "u = np.zeros((N,4))\n",
    "u[0,0] = v0\n",
    "u[0,1] = theta0\n",
    "u[0,2] = x0\n",
    "u[0,3] = y0"
   ]
  },
  {
   "cell_type": "code",
   "execution_count": 175,
   "metadata": {},
   "outputs": [],
   "source": [
    "# Iteration through Euler method\n",
    "def euler(u, dt, N):\n",
    "    '''Function uses euler method to solve differential equation\n",
    "    \n",
    "    Parameters\n",
    "    ----------\n",
    "    u : numpy.ndarray\n",
    "        Array with initial values\n",
    "        2D, rows are determined by N, columns\n",
    "        by initial values.\n",
    "    dt: Time step associated with N\n",
    "    N : number of steps in the time interval\n",
    "    \n",
    "    Returns\n",
    "    -------\n",
    "    u : numpy.ndarray\n",
    "        The solution at all time steps.\n",
    "    '''\n",
    "    for i in range(N-1):\n",
    "        v_n = u[i][0]\n",
    "        theta_n = u[i][1]\n",
    "        x_n = u[i][2]\n",
    "        y_n = u[i][3]\n",
    "\n",
    "        f_n = np.array([\n",
    "            -g*np.sin(theta_n) - (Cd/Cl)*(g/vt2)*v_n**2,\n",
    "            -(g/v_n)*np.cos(theta_n) + (g/vt2)*v_n,\n",
    "            v_n*np.cos(theta_n),\n",
    "            v_n*np.sin(theta_n)\n",
    "        ])\n",
    "        # Update values using Euler method\n",
    "        u[i+1] = u[i] + dt*f_n\n",
    "    return u"
   ]
  },
  {
   "cell_type": "code",
   "execution_count": 196,
   "metadata": {},
   "outputs": [],
   "source": [
    "# Iteration through runge-kutta\n",
    "def runge_kutta(f, dt, N):\n",
    "    '''Function uses Runge-Kutta method to solve differential equation\n",
    "    \n",
    "    Parameters\n",
    "    ----------\n",
    "    f : numpy.ndarray\n",
    "        Array with initial values\n",
    "        2D, rows are determined by N, columns\n",
    "        by initial values.\n",
    "    dt: Time step associated with N\n",
    "    N : number of steps in the time interval\n",
    "    \n",
    "    Returns\n",
    "    -------\n",
    "    u : numpy.ndarray\n",
    "        The solution at all time steps.\n",
    "    '''\n",
    "    for i in range(N-1):\n",
    "        v_n = f[i][0]\n",
    "        theta_n = f[i][1]\n",
    "        x_n = f[i][2]\n",
    "        y_n = f[i][3]\n",
    "\n",
    "        f_n = np.array([\n",
    "            -g*np.sin(theta_n) - (Cd/Cl)*(g/vt2)*v_n**2,\n",
    "            -(g/v_n)*np.cos(theta_n) + (g/vt2)*v_n,\n",
    "            v_n*np.cos(theta_n),\n",
    "            v_n*np.sin(theta_n)\n",
    "        ])\n",
    "        # Update values to temporary array\n",
    "        f_temp = f[i] + 0.5*dt*f_n\n",
    "        \n",
    "        \n",
    "        v_n = f_temp[0]\n",
    "        theta_n = f_temp[1]\n",
    "        x_n = f_temp[2]\n",
    "        y_n = f_temp[3]\n",
    "\n",
    "        f_n = np.array([\n",
    "            -g*np.sin(theta_n) - (Cd/Cl)*(g/vt2)*v_n**2,\n",
    "            -(g/v_n)*np.cos(theta_n) + (g/vt2)*v_n,\n",
    "            v_n*np.cos(theta_n),\n",
    "            v_n*np.sin(theta_n)\n",
    "        ])\n",
    "        \n",
    "        f = f[i] + dt*f_n\n",
    "    return f"
   ]
  },
  {
   "cell_type": "code",
   "execution_count": 201,
   "metadata": {},
   "outputs": [
    {
     "name": "stdout",
     "output_type": "stream",
     "text": [
      "<class 'numpy.ndarray'>\n"
     ]
    },
    {
     "ename": "TypeError",
     "evalue": "object of type 'numpy.float64' has no len()",
     "output_type": "error",
     "traceback": [
      "\u001b[0;31m---------------------------------------------------------------------------\u001b[0m",
      "\u001b[0;31mTypeError\u001b[0m                                 Traceback (most recent call last)",
      "\u001b[0;32m<ipython-input-201-d913598979e6>\u001b[0m in \u001b[0;36m<module>\u001b[0;34m()\u001b[0m\n\u001b[1;32m      1\u001b[0m \u001b[0mprint\u001b[0m\u001b[0;34m(\u001b[0m\u001b[0mtype\u001b[0m\u001b[0;34m(\u001b[0m\u001b[0mu\u001b[0m\u001b[0;34m[\u001b[0m\u001b[0;36m0\u001b[0m\u001b[0;34m]\u001b[0m\u001b[0;34m)\u001b[0m\u001b[0;34m)\u001b[0m\u001b[0;34m\u001b[0m\u001b[0m\n\u001b[1;32m      2\u001b[0m \u001b[0ma\u001b[0m \u001b[0;34m=\u001b[0m \u001b[0mrunge_kutta\u001b[0m\u001b[0;34m(\u001b[0m\u001b[0mu\u001b[0m\u001b[0;34m,\u001b[0m \u001b[0mdt\u001b[0m\u001b[0;34m,\u001b[0m \u001b[0mN\u001b[0m\u001b[0;34m)\u001b[0m\u001b[0;34m\u001b[0m\u001b[0m\n\u001b[0;32m----> 3\u001b[0;31m \u001b[0mprint\u001b[0m\u001b[0;34m(\u001b[0m\u001b[0mlen\u001b[0m\u001b[0;34m(\u001b[0m\u001b[0ma\u001b[0m\u001b[0;34m[\u001b[0m\u001b[0;36m0\u001b[0m\u001b[0;34m]\u001b[0m\u001b[0;34m)\u001b[0m\u001b[0;34m)\u001b[0m\u001b[0;34m\u001b[0m\u001b[0m\n\u001b[0m",
      "\u001b[0;31mTypeError\u001b[0m: object of type 'numpy.float64' has no len()"
     ]
    }
   ],
   "source": [
    "print(type(u[0]))\n",
    "a = runge_kutta(u, dt, N)"
   ]
  },
  {
   "cell_type": "code",
   "execution_count": 198,
   "metadata": {},
   "outputs": [
    {
     "ename": "IndexError",
     "evalue": "too many indices for array",
     "output_type": "error",
     "traceback": [
      "\u001b[0;31m---------------------------------------------------------------------------\u001b[0m",
      "\u001b[0;31mIndexError\u001b[0m                                Traceback (most recent call last)",
      "\u001b[0;32m<ipython-input-198-e9324f505b71>\u001b[0m in \u001b[0;36m<module>\u001b[0;34m()\u001b[0m\n\u001b[1;32m      4\u001b[0m \u001b[0mplt\u001b[0m\u001b[0;34m.\u001b[0m\u001b[0mylabel\u001b[0m\u001b[0;34m(\u001b[0m\u001b[0;34m'y'\u001b[0m\u001b[0;34m)\u001b[0m\u001b[0;34m\u001b[0m\u001b[0m\n\u001b[1;32m      5\u001b[0m \u001b[0mplt\u001b[0m\u001b[0;34m.\u001b[0m\u001b[0mgrid\u001b[0m\u001b[0;34m(\u001b[0m\u001b[0;34m)\u001b[0m\u001b[0;34m\u001b[0m\u001b[0m\n\u001b[0;32m----> 6\u001b[0;31m \u001b[0mplt\u001b[0m\u001b[0;34m.\u001b[0m\u001b[0mplot\u001b[0m\u001b[0;34m(\u001b[0m\u001b[0ma\u001b[0m\u001b[0;34m[\u001b[0m\u001b[0;34m:\u001b[0m\u001b[0;34m,\u001b[0m\u001b[0;36m2\u001b[0m\u001b[0;34m]\u001b[0m\u001b[0;34m,\u001b[0m \u001b[0ma\u001b[0m\u001b[0;34m[\u001b[0m\u001b[0;34m:\u001b[0m\u001b[0;34m,\u001b[0m\u001b[0;36m3\u001b[0m\u001b[0;34m]\u001b[0m\u001b[0;34m)\u001b[0m\u001b[0;34m\u001b[0m\u001b[0m\n\u001b[0m\u001b[1;32m      7\u001b[0m \u001b[0mplt\u001b[0m\u001b[0;34m.\u001b[0m\u001b[0mfigure\u001b[0m\u001b[0;34m(\u001b[0m\u001b[0;34m)\u001b[0m\u001b[0;34m\u001b[0m\u001b[0m\n\u001b[1;32m      8\u001b[0m \u001b[0mplt\u001b[0m\u001b[0;34m.\u001b[0m\u001b[0mtitle\u001b[0m\u001b[0;34m(\u001b[0m\u001b[0;34m'Veocity and Trajectory angle'\u001b[0m\u001b[0;34m)\u001b[0m\u001b[0;34m\u001b[0m\u001b[0m\n",
      "\u001b[0;31mIndexError\u001b[0m: too many indices for array"
     ]
    },
    {
     "data": {
      "image/png": "[encoded data removed]",
      "text/plain": [
       "<Figure size 648x288 with 1 Axes>"
      ]
     },
     "metadata": {},
     "output_type": "display_data"
    }
   ],
   "source": [
    "plt.figure(figsize=(9.0, 4.0))\n",
    "plt.title('Path of the glider (flight time = {0})'.format(T))\n",
    "plt.xlabel('x')\n",
    "plt.ylabel('y')\n",
    "plt.grid()\n",
    "plt.plot(a[:,2], a[:,3])\n",
    "plt.figure()\n",
    "plt.title('Veocity and Trajectory angle')\n",
    "plt.xlabel('Velocity')\n",
    "plt.ylabel('Angle')\n",
    "plt.plot(a[:,0], a[:,1])"
   ]
  },
  {
   "cell_type": "code",
   "execution_count": 140,
   "metadata": {},
   "outputs": [],
   "source": [
    "# Calculating the order of convergence\n",
    "# ratio\n",
    "r = 2\n",
    "\n",
    "# time steps\n",
    "dt_coarsest = 0.004\n",
    "dt_medium = 0.002\n",
    "dt_finest = 0.001\n",
    "\n",
    "# N for different time step sizes\n",
    "N_coarsest = int(T/dt_coarsest + 1)\n",
    "N_medium = int(T/dt_medium + 1)\n",
    "N_finest = int(T/dt_finest + 1)\n",
    "\n",
    "# initial u arrays holding variables at all time points\n",
    "u_coarsest = np.zeros((N_coarsest, 4))\n",
    "u_coarsest[0,0] = v0\n",
    "u_coarsest[0,1] = theta0\n",
    "u_coarsest[0,2] = x0\n",
    "u_coarsest[0,3] = y0\n",
    "u_coarsest = euler(u_coarsest, dt_coarsest, N_coarsest)\n",
    "\n",
    "u_medium = np.zeros((N_medium, 4))\n",
    "u_medium[0,0] = v0\n",
    "u_medium[0,1] = theta0\n",
    "u_medium[0,2] = x0\n",
    "u_medium[0,3] = y0\n",
    "u_medium = euler(u_medium, dt_medium, N_medium)\n",
    "\n",
    "u_finest = np.zeros((N_finest, 4))\n",
    "u_finest[0,0] = v0\n",
    "u_finest[0,1] = theta0\n",
    "u_finest[0,2] = x0\n",
    "u_finest[0,3] = y0\n",
    "u_finest = euler(u_finest, dt_finest, N_finest)"
   ]
  },
  {
   "cell_type": "code",
   "execution_count": 163,
   "metadata": {},
   "outputs": [
    {
     "name": "stdout",
     "output_type": "stream",
     "text": [
      "Order of convergence\n",
      "1.0139\n"
     ]
    }
   ],
   "source": [
    "f32 = 0\n",
    "for i in range(len(u_coarsest[0])):\n",
    "    for j in range(N_coarsest):\n",
    "        f32 = f32 + np.abs(u_coarsest[j,i] \n",
    "                                 - u_medium[2*j, i])\n",
    "f32 = f32 * dt_coarsest\n",
    "f21 = 0\n",
    "for i in range(len(u_medium[0])):\n",
    "    for j in range(N_medium):\n",
    "        f21 = f21 + np.abs(u_medium[j,i] - u_finest[2*j,i])\n",
    "f21 = f21 * dt_medium\n",
    "p = np.log10(f32/f21)/np.log10(r)\n",
    "\n",
    "print('Order of convergence')\n",
    "print(round(p,4))\n"
   ]
  },
  {
   "cell_type": "code",
   "execution_count": null,
   "metadata": {},
   "outputs": [],
   "source": []
  },
  {
   "cell_type": "code",
   "execution_count": null,
   "metadata": {},
   "outputs": [],
   "source": []
  }
 ],
 "metadata": {
  "kernelspec": {
   "display_name": "Python 3",
   "language": "python",
   "name": "python3"
  },
  "language_info": {
   "codemirror_mode": {
    "name": "ipython",
    "version": 3
   },
   "file_extension": ".py",
   "mimetype": "text/x-python",
   "name": "python",
   "nbconvert_exporter": "python",
   "pygments_lexer": "ipython3",
   "version": "3.6.5"
  }
 },
 "nbformat": 4,
 "nbformat_minor": 2
}
