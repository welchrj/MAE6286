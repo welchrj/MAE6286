{
 "cells": [
  {
   "cell_type": "code",
   "execution_count": 35,
   "metadata": {},
   "outputs": [],
   "source": [
    "import numpy\n",
    "from matplotlib import pyplot\n",
    "# Initial conditions\n",
    "\n",
    "xmin, xmax = 0.0, 1.0\n",
    "ymin, ymax = 0.0, 1.0\n",
    "n = 41\n",
    "d = xmax/(n-1)\n",
    "Re = 10\n",
    "x = numpy.linspace(xmin, xmax, n)\n",
    "y = numpy.linspace(ymin, ymax, n)\n",
    "dt = 1e-4\n",
    "nt = 9000\n",
    "# Define initial velocity.\n",
    "u = numpy.zeros((n,n))\n",
    "v = numpy.zeros((n,n))\n",
    "p = numpy.zeros((n,n))\n",
    "u[-1] = 1.0\n",
    "\n",
    "def l2_norm(p, p_ref):\n",
    "    l2_diff = numpy.sqrt(numpy.sum((p - p_ref)**2))\n",
    "    l2_ref = numpy.sqrt(numpy.sum(p_ref**2))\n",
    "    if l2_ref > 1e-12:\n",
    "        return l2_diff / l2_ref\n",
    "    return l2_diff\n"
   ]
  },
  {
   "cell_type": "code",
   "execution_count": 42,
   "metadata": {},
   "outputs": [],
   "source": [
    "def poisson_2d_conjugate_gradient(p0, b, dx, dy,\n",
    "                                  maxiter=20000, rtol=1e-6):\n",
    "    def A(p):\n",
    "        return(-4.0 * p[1:-1, 1:-1] +\n",
    "               p[1:-1, :-2] + p[1:-1, 2:] +\n",
    "               p[:-2, 1:-1] + p[2:, 1:-1]) / dx**2\n",
    "    p = p0.copy()\n",
    "    r = numpy.zeros_like(p)  # Initial residual\n",
    "    Ad = numpy.zeros_like(p) # to store the mat-vec multiplication\n",
    "    conv = [] # convergence history\n",
    "    diff = rtol + 1\n",
    "    ite = 0\n",
    "    # Compute the initial residual\n",
    "    r = b - A(p)\n",
    "    # Set the initial search direction to be the residual.\n",
    "    d = r.copy(0)\n",
    "    while diff > rtol and ite < maxiter:\n",
    "        pk = p.copy()\n",
    "        rk = r.copy()\n",
    "        # Compute the Laplacian of the search direction\n",
    "        Ad = A(d)\n",
    "        # Compute the step size.\n",
    "        alpha = numpy.sum(r*r)/numpy.sum(d*Ad)\n",
    "        #Update the solution\n",
    "        p = pk + alpha * d\n",
    "        # Update the residual\n",
    "        r = rk - alpha * Ad\n",
    "        # Update the search direction.\n",
    "        beta = numpy.sum(r*r)/numpy.sum(rk*rk)\n",
    "        d = r+beta*d\n",
    "        # Nuemann boundary conditions for pressure on left, right and bottom surface.\n",
    "        p[:,0] = p[:,1]\n",
    "        p[-1,:] = p[-2,:]\n",
    "        p[:,-1] = p[:,-2]\n",
    "        # Compute the relative L2-norm of the difference\n",
    "        diff = l2_norm(p,pk)\n",
    "        conv.append(diff)\n",
    "        ite += 1\n",
    "    return p\n"
   ]
  },
  {
   "cell_type": "code",
   "execution_count": 43,
   "metadata": {},
   "outputs": [],
   "source": [
    "def convective_term(u,v):\n",
    "    a = u[1:-1,1:-1]*(u[1:-1,:-2] - u[1:-1,2:])\n",
    "    b = v[1:-1,1:-1]*(u[:-2,1:-1] - u[2:,1:-1])\n",
    "    c = u[1:-1,1:-1]*(v[1:-1,:-2] - v[1:-1,2:])\n",
    "    d = v[1:-1,1:-1]*(v[:-2,1:-1] - v[2:,1:-1])\n",
    "    u_du = a+b\n",
    "    v_dv = c+d\n",
    "    \n",
    "    return u_du, v_dv\n",
    "\n",
    "def laplacian_2d(u):\n",
    "    return u[1:-1,:-2] - 4*u[1:-1,1:-1] + u[1:-1, 2:] + u[:-2,1:-1] + u[2:,1:-1]\n",
    "    \n",
    "    \n",
    "def navier_stokes_2d(u, v, p, Re, d, n, nt, dt):\n",
    "    u_temp = u.copy()\n",
    "    v_temp = v.copy()\n",
    "    \n",
    "    for i in range(nt):\n",
    "        u_du, v_dv = convective_term(u,v)\n",
    "        u_temp[1:-1,1:-1] = (u[1:-1,1:-1] - (dt/2*d) * u_du + \n",
    "                             (dt/(Re*d**2)) * laplacian_2d(u))\n",
    "        v_temp[1:-1,1:-1] = (v[1:-1,1:-1] - (dt/2*d) * v_dv + \n",
    "                             (dt/(Re*d**2)) * laplacian_2d(v))\n",
    "        #Solve for pressure\n",
    "        rhs = (1/(2*dt*d)*(u_temp[1:-1,2:] - u[1:-1,:-2] + \n",
    "                           v_temp[2:,1:-1] - v[:-2,1:-1]))\n",
    "        p = poisson_2d_conjugate_gradient(p,rhs,d,d)\n",
    "        u[1:-1,1:-1] = u_temp[1:-1,1:-1] - (dt/(2*d))*(p[1:-1,2:] - p[1:-1,:-2])\n",
    "        v[1:-1,1:-1] = v_temp[1:-1,1:-1] - (dt/(2*d))*(p[2:,1:-1] - p[:-2,1:-1])\n",
    "    return u, v"
   ]
  },
  {
   "cell_type": "code",
   "execution_count": 44,
   "metadata": {},
   "outputs": [
    {
     "name": "stderr",
     "output_type": "stream",
     "text": [
      "C:\\Users\\welch\\Anaconda3\\lib\\site-packages\\ipykernel_launcher.py:16: DeprecationWarning: Non-string object detected for the array ordering. Please pass in 'C', 'F', 'A', or 'K' instead\n",
      "  app.launch_new_instance()\n"
     ]
    },
    {
     "ename": "ValueError",
     "evalue": "operands could not be broadcast together with shapes (39,39) (37,37) ",
     "output_type": "error",
     "traceback": [
      "\u001b[1;31m---------------------------------------------------------------------------\u001b[0m",
      "\u001b[1;31mValueError\u001b[0m                                Traceback (most recent call last)",
      "\u001b[1;32m<ipython-input-44-5811e741075c>\u001b[0m in \u001b[0;36m<module>\u001b[1;34m\u001b[0m\n\u001b[1;32m----> 1\u001b[1;33m \u001b[0mu_ans\u001b[0m\u001b[1;33m,\u001b[0m \u001b[0mv_ans\u001b[0m \u001b[1;33m=\u001b[0m \u001b[0mnavier_stokes_2d\u001b[0m\u001b[1;33m(\u001b[0m\u001b[0mu\u001b[0m\u001b[1;33m,\u001b[0m\u001b[0mv\u001b[0m\u001b[1;33m,\u001b[0m\u001b[0mp\u001b[0m\u001b[1;33m,\u001b[0m\u001b[0mRe\u001b[0m\u001b[1;33m,\u001b[0m\u001b[0md\u001b[0m\u001b[1;33m,\u001b[0m\u001b[0mn\u001b[0m\u001b[1;33m,\u001b[0m\u001b[0mnt\u001b[0m\u001b[1;33m,\u001b[0m\u001b[0mdt\u001b[0m\u001b[1;33m)\u001b[0m\u001b[1;33m\u001b[0m\u001b[0m\n\u001b[0m",
      "\u001b[1;32m<ipython-input-43-a7172995028c>\u001b[0m in \u001b[0;36mnavier_stokes_2d\u001b[1;34m(u, v, p, Re, d, n, nt, dt)\u001b[0m\n\u001b[0;32m     26\u001b[0m         rhs = (1/(2*dt*d)*(u_temp[1:-1,2:] - u[1:-1,:-2] + \n\u001b[0;32m     27\u001b[0m                            v_temp[2:,1:-1] - v[:-2,1:-1]))\n\u001b[1;32m---> 28\u001b[1;33m         \u001b[0mp\u001b[0m \u001b[1;33m=\u001b[0m \u001b[0mpoisson_2d_conjugate_gradient\u001b[0m\u001b[1;33m(\u001b[0m\u001b[0mp\u001b[0m\u001b[1;33m,\u001b[0m\u001b[0mrhs\u001b[0m\u001b[1;33m,\u001b[0m\u001b[0md\u001b[0m\u001b[1;33m,\u001b[0m\u001b[0md\u001b[0m\u001b[1;33m)\u001b[0m\u001b[1;33m\u001b[0m\u001b[0m\n\u001b[0m\u001b[0;32m     29\u001b[0m         \u001b[0mu\u001b[0m\u001b[1;33m[\u001b[0m\u001b[1;36m1\u001b[0m\u001b[1;33m:\u001b[0m\u001b[1;33m-\u001b[0m\u001b[1;36m1\u001b[0m\u001b[1;33m,\u001b[0m\u001b[1;36m1\u001b[0m\u001b[1;33m:\u001b[0m\u001b[1;33m-\u001b[0m\u001b[1;36m1\u001b[0m\u001b[1;33m]\u001b[0m \u001b[1;33m=\u001b[0m \u001b[0mu_temp\u001b[0m\u001b[1;33m[\u001b[0m\u001b[1;36m1\u001b[0m\u001b[1;33m:\u001b[0m\u001b[1;33m-\u001b[0m\u001b[1;36m1\u001b[0m\u001b[1;33m,\u001b[0m\u001b[1;36m1\u001b[0m\u001b[1;33m:\u001b[0m\u001b[1;33m-\u001b[0m\u001b[1;36m1\u001b[0m\u001b[1;33m]\u001b[0m \u001b[1;33m-\u001b[0m \u001b[1;33m(\u001b[0m\u001b[0mdt\u001b[0m\u001b[1;33m/\u001b[0m\u001b[1;33m(\u001b[0m\u001b[1;36m2\u001b[0m\u001b[1;33m*\u001b[0m\u001b[0md\u001b[0m\u001b[1;33m)\u001b[0m\u001b[1;33m)\u001b[0m\u001b[1;33m*\u001b[0m\u001b[1;33m(\u001b[0m\u001b[0mp\u001b[0m\u001b[1;33m[\u001b[0m\u001b[1;36m1\u001b[0m\u001b[1;33m:\u001b[0m\u001b[1;33m-\u001b[0m\u001b[1;36m1\u001b[0m\u001b[1;33m,\u001b[0m\u001b[1;36m2\u001b[0m\u001b[1;33m:\u001b[0m\u001b[1;33m]\u001b[0m \u001b[1;33m-\u001b[0m \u001b[0mp\u001b[0m\u001b[1;33m[\u001b[0m\u001b[1;36m1\u001b[0m\u001b[1;33m:\u001b[0m\u001b[1;33m-\u001b[0m\u001b[1;36m1\u001b[0m\u001b[1;33m,\u001b[0m\u001b[1;33m:\u001b[0m\u001b[1;33m-\u001b[0m\u001b[1;36m2\u001b[0m\u001b[1;33m]\u001b[0m\u001b[1;33m)\u001b[0m\u001b[1;33m\u001b[0m\u001b[0m\n\u001b[0;32m     30\u001b[0m         \u001b[0mv\u001b[0m\u001b[1;33m[\u001b[0m\u001b[1;36m1\u001b[0m\u001b[1;33m:\u001b[0m\u001b[1;33m-\u001b[0m\u001b[1;36m1\u001b[0m\u001b[1;33m,\u001b[0m\u001b[1;36m1\u001b[0m\u001b[1;33m:\u001b[0m\u001b[1;33m-\u001b[0m\u001b[1;36m1\u001b[0m\u001b[1;33m]\u001b[0m \u001b[1;33m=\u001b[0m \u001b[0mv_temp\u001b[0m\u001b[1;33m[\u001b[0m\u001b[1;36m1\u001b[0m\u001b[1;33m:\u001b[0m\u001b[1;33m-\u001b[0m\u001b[1;36m1\u001b[0m\u001b[1;33m,\u001b[0m\u001b[1;36m1\u001b[0m\u001b[1;33m:\u001b[0m\u001b[1;33m-\u001b[0m\u001b[1;36m1\u001b[0m\u001b[1;33m]\u001b[0m \u001b[1;33m-\u001b[0m \u001b[1;33m(\u001b[0m\u001b[0mdt\u001b[0m\u001b[1;33m/\u001b[0m\u001b[1;33m(\u001b[0m\u001b[1;36m2\u001b[0m\u001b[1;33m*\u001b[0m\u001b[0md\u001b[0m\u001b[1;33m)\u001b[0m\u001b[1;33m)\u001b[0m\u001b[1;33m*\u001b[0m\u001b[1;33m(\u001b[0m\u001b[0mp\u001b[0m\u001b[1;33m[\u001b[0m\u001b[1;36m2\u001b[0m\u001b[1;33m:\u001b[0m\u001b[1;33m,\u001b[0m\u001b[1;36m1\u001b[0m\u001b[1;33m:\u001b[0m\u001b[1;33m-\u001b[0m\u001b[1;36m1\u001b[0m\u001b[1;33m]\u001b[0m \u001b[1;33m-\u001b[0m \u001b[0mp\u001b[0m\u001b[1;33m[\u001b[0m\u001b[1;33m:\u001b[0m\u001b[1;33m-\u001b[0m\u001b[1;36m2\u001b[0m\u001b[1;33m,\u001b[0m\u001b[1;36m1\u001b[0m\u001b[1;33m:\u001b[0m\u001b[1;33m-\u001b[0m\u001b[1;36m1\u001b[0m\u001b[1;33m]\u001b[0m\u001b[1;33m)\u001b[0m\u001b[1;33m\u001b[0m\u001b[0m\n",
      "\u001b[1;32m<ipython-input-42-2d1aba98631a>\u001b[0m in \u001b[0;36mpoisson_2d_conjugate_gradient\u001b[1;34m(p0, b, dx, dy, maxiter, rtol)\u001b[0m\n\u001b[0;32m     21\u001b[0m         \u001b[0mAd\u001b[0m \u001b[1;33m=\u001b[0m \u001b[0mA\u001b[0m\u001b[1;33m(\u001b[0m\u001b[0md\u001b[0m\u001b[1;33m)\u001b[0m\u001b[1;33m\u001b[0m\u001b[0m\n\u001b[0;32m     22\u001b[0m         \u001b[1;31m# Compute the step size.\u001b[0m\u001b[1;33m\u001b[0m\u001b[1;33m\u001b[0m\u001b[0m\n\u001b[1;32m---> 23\u001b[1;33m         \u001b[0malpha\u001b[0m \u001b[1;33m=\u001b[0m \u001b[0mnumpy\u001b[0m\u001b[1;33m.\u001b[0m\u001b[0msum\u001b[0m\u001b[1;33m(\u001b[0m\u001b[0mr\u001b[0m\u001b[1;33m*\u001b[0m\u001b[0mr\u001b[0m\u001b[1;33m)\u001b[0m\u001b[1;33m/\u001b[0m\u001b[0mnumpy\u001b[0m\u001b[1;33m.\u001b[0m\u001b[0msum\u001b[0m\u001b[1;33m(\u001b[0m\u001b[0md\u001b[0m\u001b[1;33m*\u001b[0m\u001b[0mAd\u001b[0m\u001b[1;33m)\u001b[0m\u001b[1;33m\u001b[0m\u001b[0m\n\u001b[0m\u001b[0;32m     24\u001b[0m         \u001b[1;31m#Update the solution\u001b[0m\u001b[1;33m\u001b[0m\u001b[1;33m\u001b[0m\u001b[0m\n\u001b[0;32m     25\u001b[0m         \u001b[0mp\u001b[0m \u001b[1;33m=\u001b[0m \u001b[0mpk\u001b[0m \u001b[1;33m+\u001b[0m \u001b[0malpha\u001b[0m \u001b[1;33m*\u001b[0m \u001b[0md\u001b[0m\u001b[1;33m\u001b[0m\u001b[0m\n",
      "\u001b[1;31mValueError\u001b[0m: operands could not be broadcast together with shapes (39,39) (37,37) "
     ]
    }
   ],
   "source": [
    "u_ans, v_ans = navier_stokes_2d(u,v,p,Re,d,n,nt,dt)"
   ]
  },
  {
   "cell_type": "code",
   "execution_count": 45,
   "metadata": {},
   "outputs": [
    {
     "data": {
      "text/plain": [
       "<matplotlib.colorbar.Colorbar at 0x1c411abac50>"
      ]
     },
     "execution_count": 45,
     "metadata": {},
     "output_type": "execute_result"
    },
    {
     "data": {
      "image/png": "[encoded data removed]",
      "text/plain": [
       "<Figure size 576x576 with 2 Axes>"
      ]
     },
     "metadata": {
      "needs_background": "light"
     },
     "output_type": "display_data"
    }
   ],
   "source": [
    "X, Y = numpy.meshgrid(x,y)\n",
    "U = u+v\n",
    "pyplot.figure(figsize=(8.0,8.0))\n",
    "pyplot.contourf(X,Y,U,numpy.linspace(-1.0,1.0,51))\n",
    "pyplot.streamplot(X,Y,u,v,color='black')\n",
    "pyplot.colorbar()\n"
   ]
  },
  {
   "cell_type": "code",
   "execution_count": null,
   "metadata": {},
   "outputs": [],
   "source": []
  }
 ],
 "metadata": {
  "kernelspec": {
   "display_name": "Python 3",
   "language": "python",
   "name": "python3"
  },
  "language_info": {
   "codemirror_mode": {
    "name": "ipython",
    "version": 3
   },
   "file_extension": ".py",
   "mimetype": "text/x-python",
   "name": "python",
   "nbconvert_exporter": "python",
   "pygments_lexer": "ipython3",
   "version": "3.6.5"
  }
 },
 "nbformat": 4,
 "nbformat_minor": 2
}
