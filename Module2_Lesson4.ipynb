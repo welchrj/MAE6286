{
 "cells": [
  {
   "cell_type": "code",
   "execution_count": 1,
   "metadata": {},
   "outputs": [],
   "source": [
    "import numpy\n",
    "from matplotlib import pyplot\n",
    "import sympy\n",
    "%matplotlib inline"
   ]
  },
  {
   "cell_type": "code",
   "execution_count": 2,
   "metadata": {},
   "outputs": [],
   "source": [
    "sympy.init_printing()"
   ]
  },
  {
   "cell_type": "code",
   "execution_count": 3,
   "metadata": {},
   "outputs": [],
   "source": [
    "x = sympy.symbols('x') #Sets x as a symbolic variable"
   ]
  },
  {
   "cell_type": "code",
   "execution_count": 8,
   "metadata": {},
   "outputs": [],
   "source": [
    "x, nu, t = sympy.symbols('x nu t')"
   ]
  },
  {
   "cell_type": "code",
   "execution_count": 15,
   "metadata": {},
   "outputs": [
    {
     "data": {
      "image/png": "[encoded data removed]",
      "text/latex": [
       "$$e^{- \\frac{\\left(- 4 t + x - 6.28318530717959\\right)^{2}}{4 \\nu \\left(t + 1\\right)}} + e^{- \\frac{\\left(- 4 t + x\\right)^{2}}{4 \\nu \\left(t + 1\\right)}}$$"
      ],
      "text/plain": [
       "                               2                2 \n",
       " -(-4⋅t + x - 6.28318530717959)      -(-4⋅t + x)  \n",
       " ────────────────────────────────    ─────────────\n",
       "           4⋅ν⋅(t + 1)                4⋅ν⋅(t + 1) \n",
       "ℯ                                 + ℯ             "
      ]
     },
     "execution_count": 15,
     "metadata": {},
     "output_type": "execute_result"
    }
   ],
   "source": [
    "phi = (sympy.exp(-(x - 4*t)**2 / (4*nu*(t + 1))) + \n",
    "       sympy.exp(-(x - 4*t - 2*numpy.pi)**2 / (4*nu*(t + 1))))\n",
    "phi"
   ]
  },
  {
   "cell_type": "code",
   "execution_count": 20,
   "metadata": {},
   "outputs": [
    {
     "data": {
      "image/png": "[encoded data removed]",
      "text/latex": [
       "$$- \\frac{\\left(- 8 t + 2 x\\right) e^{- \\frac{\\left(- 4 t + x\\right)^{2}}{4 \\nu \\left(t + 1\\right)}}}{4 \\nu \\left(t + 1\\right)} - \\frac{\\left(- 8 t + 2 x - 12.5663706143592\\right) e^{- \\frac{\\left(- 4 t + x - 6.28318530717959\\right)^{2}}{4 \\nu \\left(t + 1\\right)}}}{4 \\nu \\left(t + 1\\right)}$$"
      ],
      "text/plain": [
       "                           2                                                  \n",
       "                -(-4⋅t + x)                                      -(-4⋅t + x - \n",
       "                ─────────────                                    ─────────────\n",
       "                 4⋅ν⋅(t + 1)                                               4⋅ν\n",
       "  (-8⋅t + 2⋅x)⋅ℯ                (-8⋅t + 2⋅x - 12.5663706143592)⋅ℯ             \n",
       "- ─────────────────────────── - ──────────────────────────────────────────────\n",
       "          4⋅ν⋅(t + 1)                                      4⋅ν⋅(t + 1)        \n",
       "\n",
       "                 2 \n",
       "6.28318530717959)  \n",
       "───────────────────\n",
       "⋅(t + 1)           \n",
       "                   \n",
       "───────────────────\n",
       "                   "
      ]
     },
     "execution_count": 20,
     "metadata": {},
     "output_type": "execute_result"
    }
   ],
   "source": [
    "phiprime = phi.diff(x)\n",
    "phiprime"
   ]
  },
  {
   "cell_type": "code",
   "execution_count": 21,
   "metadata": {},
   "outputs": [
    {
     "data": {
      "image/png": "[encoded data removed]",
      "text/latex": [
       "$$- \\frac{2 \\nu \\left(- \\frac{\\left(- 8 t + 2 x\\right) e^{- \\frac{\\left(- 4 t + x\\right)^{2}}{4 \\nu \\left(t + 1\\right)}}}{4 \\nu \\left(t + 1\\right)} - \\frac{\\left(- 8 t + 2 x - 12.5663706143592\\right) e^{- \\frac{\\left(- 4 t + x - 6.28318530717959\\right)^{2}}{4 \\nu \\left(t + 1\\right)}}}{4 \\nu \\left(t + 1\\right)}\\right)}{e^{- \\frac{\\left(- 4 t + x - 6.28318530717959\\right)^{2}}{4 \\nu \\left(t + 1\\right)}} + e^{- \\frac{\\left(- 4 t + x\\right)^{2}}{4 \\nu \\left(t + 1\\right)}}} + 4$$"
      ],
      "text/plain": [
       "      ⎛                           2                                           \n",
       "      ⎜                -(-4⋅t + x)                                      -(-4⋅t\n",
       "      ⎜                ─────────────                                    ──────\n",
       "      ⎜                 4⋅ν⋅(t + 1)                                           \n",
       "      ⎜  (-8⋅t + 2⋅x)⋅ℯ                (-8⋅t + 2⋅x - 12.5663706143592)⋅ℯ      \n",
       "  2⋅ν⋅⎜- ─────────────────────────── - ───────────────────────────────────────\n",
       "      ⎝          4⋅ν⋅(t + 1)                                      4⋅ν⋅(t + 1) \n",
       "- ────────────────────────────────────────────────────────────────────────────\n",
       "                                                            2                2\n",
       "                              -(-4⋅t + x - 6.28318530717959)      -(-4⋅t + x) \n",
       "                              ────────────────────────────────    ────────────\n",
       "                                        4⋅ν⋅(t + 1)                4⋅ν⋅(t + 1)\n",
       "                             ℯ                                 + ℯ            \n",
       "\n",
       "                        2 ⎞    \n",
       " + x - 6.28318530717959)  ⎟    \n",
       "──────────────────────────⎟    \n",
       "    4⋅ν⋅(t + 1)           ⎟    \n",
       "                          ⎟    \n",
       "──────────────────────────⎟    \n",
       "                          ⎠    \n",
       "─────────────────────────── + 4\n",
       "                               \n",
       "                               \n",
       "─                              \n",
       "                               \n",
       "                               "
      ]
     },
     "execution_count": 21,
     "metadata": {},
     "output_type": "execute_result"
    }
   ],
   "source": [
    "u = -2*nu*(phiprime/phi) + 4\n",
    "u"
   ]
  },
  {
   "cell_type": "code",
   "execution_count": 22,
   "metadata": {},
   "outputs": [],
   "source": [
    "from sympy.utilities.lambdify import lambdify"
   ]
  },
  {
   "cell_type": "code",
   "execution_count": 23,
   "metadata": {},
   "outputs": [
    {
     "name": "stdout",
     "output_type": "stream",
     "text": [
      "The value of u at t=1, x=4, nu=3 is 3.4917066420644494\n"
     ]
    }
   ],
   "source": [
    "# Lambdify sets u_lamb as a python function that can be called.  \n",
    "# first parameters in lambdify are variables of your function\n",
    "# Second parameter is the function itself\n",
    "\n",
    "u_lamb = lambdify((t, x, nu), u)\n",
    "\n",
    "print('The value of u at t=1, x=4, nu=3 is {}'.format(u_lamb(1, 4, 3)))"
   ]
  },
  {
   "cell_type": "code",
   "execution_count": 24,
   "metadata": {},
   "outputs": [],
   "source": [
    "# Set Parameters\n",
    "nx = 101\n",
    "L = 2*numpy.pi\n",
    "dx = L/(nx-1)\n",
    "nu = 0.07\n",
    "sigma = 0.1\n",
    "dt = sigma * dx **2 / nu\n",
    "nt = 100 # time steps"
   ]
  },
  {
   "cell_type": "code",
   "execution_count": 28,
   "metadata": {},
   "outputs": [],
   "source": [
    "x = numpy.linspace(0.0, L, num=nx)"
   ]
  },
  {
   "cell_type": "code",
   "execution_count": 31,
   "metadata": {},
   "outputs": [],
   "source": [
    "u0 = numpy.empty(nx)\n",
    "for i in range(nx):\n",
    "    u0[i] = u_lamb(0.0, x[i], nu)"
   ]
  },
  {
   "cell_type": "code",
   "execution_count": 32,
   "metadata": {},
   "outputs": [
    {
     "data": {
      "text/plain": [
       "array([4.        , 4.06283185, 4.12566371, 4.18849556, 4.25132741,\n",
       "       4.31415927, 4.37699112, 4.43982297, 4.50265482, 4.56548668,\n",
       "       4.62831853, 4.69115038, 4.75398224, 4.81681409, 4.87964594,\n",
       "       4.9424778 , 5.00530965, 5.0681415 , 5.13097336, 5.19380521,\n",
       "       5.25663706, 5.31946891, 5.38230077, 5.44513262, 5.50796447,\n",
       "       5.57079633, 5.63362818, 5.69646003, 5.75929189, 5.82212374,\n",
       "       5.88495559, 5.94778745, 6.0106193 , 6.07345115, 6.136283  ,\n",
       "       6.19911486, 6.26194671, 6.32477856, 6.38761042, 6.45044227,\n",
       "       6.51327412, 6.57610598, 6.63893783, 6.70176967, 6.76460125,\n",
       "       6.82742866, 6.89018589, 6.95176632, 6.99367964, 6.72527549,\n",
       "       4.        , 1.27472451, 1.00632036, 1.04823368, 1.10981411,\n",
       "       1.17257134, 1.23539875, 1.29823033, 1.36106217, 1.42389402,\n",
       "       1.48672588, 1.54955773, 1.61238958, 1.67522144, 1.73805329,\n",
       "       1.80088514, 1.863717  , 1.92654885, 1.9893807 , 2.05221255,\n",
       "       2.11504441, 2.17787626, 2.24070811, 2.30353997, 2.36637182,\n",
       "       2.42920367, 2.49203553, 2.55486738, 2.61769923, 2.68053109,\n",
       "       2.74336294, 2.80619479, 2.86902664, 2.9318585 , 2.99469035,\n",
       "       3.0575222 , 3.12035406, 3.18318591, 3.24601776, 3.30884962,\n",
       "       3.37168147, 3.43451332, 3.49734518, 3.56017703, 3.62300888,\n",
       "       3.68584073, 3.74867259, 3.81150444, 3.87433629, 3.93716815,\n",
       "       4.        ])"
      ]
     },
     "execution_count": 32,
     "metadata": {},
     "output_type": "execute_result"
    }
   ],
   "source": [
    "u0"
   ]
  },
  {
   "cell_type": "code",
   "execution_count": null,
   "metadata": {},
   "outputs": [],
   "source": [
    "u_hist = [u0.copy()]\n",
    "u = u0.copy()\n",
    "for n in range(nt):\n",
    "    un = u.copy()\n",
    "    # Update all interiors\n",
    "    u[1:-1] = (un[1:-1] - un[1:-1] * (dt/dx) * (un[1:-1] - un[:-2]) +\n",
    "               nu*(dt/dx**2)*(un[:-1]-2*un[1:-1]+un[2:]))\n",
    "    # Update the boundary values\n",
    "    u[0] = (un[0] - un[0] * (dt/dx) * (un[0] - un[-2]) +\n",
    "           nu * (dt/dx**2) * (un[-2]-2*un[0] + un[1])) \n",
    "    u[-1] = u[0]\n",
    "    # Record\n",
    "    u_hist.append(u.copy())\n",
    "    "
   ]
  }
 ],
 "metadata": {
  "kernelspec": {
   "display_name": "Python 3",
   "language": "python",
   "name": "python3"
  },
  "language_info": {
   "codemirror_mode": {
    "name": "ipython",
    "version": 3
   },
   "file_extension": ".py",
   "mimetype": "text/x-python",
   "name": "python",
   "nbconvert_exporter": "python",
   "pygments_lexer": "ipython3",
   "version": "3.7.3"
  }
 },
 "nbformat": 4,
 "nbformat_minor": 2
}
