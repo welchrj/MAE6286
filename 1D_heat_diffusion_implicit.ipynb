{
 "cells": [
  {
   "cell_type": "markdown",
   "metadata": {},
   "source": [
    "1D heat diffusion solution with an implicit scheme from module 4 lesson 2"
   ]
  },
  {
   "cell_type": "code",
   "execution_count": 21,
   "metadata": {},
   "outputs": [],
   "source": [
    "import numpy as np\n",
    "from matplotlib import pyplot as plt\n",
    "\n",
    "%matplotlib inline"
   ]
  },
  {
   "cell_type": "code",
   "execution_count": 22,
   "metadata": {},
   "outputs": [],
   "source": [
    "plt.rc('font', family = 'serif', size = 16)"
   ]
  },
  {
   "cell_type": "code",
   "execution_count": 23,
   "metadata": {},
   "outputs": [],
   "source": [
    "# Set parameters.\n",
    "L = 1.0\n",
    "nx = 51\n",
    "dx = L / (nx - 1)\n",
    "x = np.linspace(0.0, L, num = nx)\n",
    "\n",
    "alpha = 1.22e-3\n",
    "q = 0.0\n",
    "\n",
    "# Set initial conditions.\n",
    "T0 = np.zeros(nx)\n",
    "T0[0] = 100.0"
   ]
  },
  {
   "cell_type": "code",
   "execution_count": 28,
   "metadata": {},
   "outputs": [],
   "source": [
    "def btcs(u0, nt, dt, dx, alpha, q=0.0):\n",
    "    '''BTCS scheme, implicit'''\n",
    "    u = u0.copy()\n",
    "    sigma = alpha * dt / dx**2\n",
    "    A = lhs_operator(nx-2, sigma) # System of equations\n",
    "    for n in range(nt):\n",
    "        b = rhs_vector(u, sigma, q * dx) # Known conditions\n",
    "        # Using the solve function from the numpy library\n",
    "        u[1:-1] = np.linalg.solve(A, b)     # input are matrix A and vector b\n",
    "        # Update boundary values\n",
    "        u[0] = u0[0]\n",
    "        u[-1] = u[-2] + q * dx\n",
    "    return u"
   ]
  },
  {
   "cell_type": "code",
   "execution_count": 29,
   "metadata": {},
   "outputs": [],
   "source": [
    "def lhs_operator(N, sigma):\n",
    "    # Diagonal coefficients in the matrix.\n",
    "    D = np.diag((2 + 1 / sigma) * np.ones(N))\n",
    "    D[-1, -1] = 1 + 1 / sigma\n",
    "    # Upper diagonal.\n",
    "    U = np.diag(-1.0 * np.ones(N-1), k=1) # k = 1 accesses the upper diagonal\n",
    "    # Lower diagonal\n",
    "    L = np.diag(-1.0 * np.ones(N-1), k=-1)\n",
    "    # Assemble A\n",
    "    A = D + U + L\n",
    "    \n",
    "    return A"
   ]
  },
  {
   "cell_type": "code",
   "execution_count": 30,
   "metadata": {},
   "outputs": [],
   "source": [
    "def rhs_vector(T, sigma, qdx):\n",
    "    b = T[1:-1] / sigma\n",
    "    # Dirichlet\n",
    "    b[0] += T[0]\n",
    "    b[-1] += qdx\n",
    "    return b"
   ]
  },
  {
   "cell_type": "code",
   "execution_count": 39,
   "metadata": {},
   "outputs": [
    {
     "data": {
      "text/plain": [
       "[<matplotlib.lines.Line2D at 0x7fc298a4a470>]"
      ]
     },
     "execution_count": 39,
     "metadata": {},
     "output_type": "execute_result"
    },
    {
     "data": {
      "image/png": "[encoded data removed]",
      "text/plain": [
       "<Figure size 432x288 with 1 Axes>"
      ]
     },
     "metadata": {
      "needs_background": "light"
     },
     "output_type": "display_data"
    }
   ],
   "source": [
    "nt = 1000\n",
    "sigma = 0.5\n",
    "dt = sigma * dx**2/alpha\n",
    "\n",
    "T = btcs(T0, nt, dt, dx, alpha, q = 0.0)\n",
    "\n",
    "plt.plot(x, T)\n",
    "# plt.xlim(0.0,L)\n",
    "# plt.ylim(0.0, 100,0)"
   ]
  },
  {
   "cell_type": "code",
   "execution_count": null,
   "metadata": {},
   "outputs": [],
   "source": []
  }
 ],
 "metadata": {
  "kernelspec": {
   "display_name": "Python 3",
   "language": "python",
   "name": "python3"
  },
  "language_info": {
   "codemirror_mode": {
    "name": "ipython",
    "version": 3
   },
   "file_extension": ".py",
   "mimetype": "text/x-python",
   "name": "python",
   "nbconvert_exporter": "python",
   "pygments_lexer": "ipython3",
   "version": "3.7.3"
  }
 },
 "nbformat": 4,
 "nbformat_minor": 2
}
