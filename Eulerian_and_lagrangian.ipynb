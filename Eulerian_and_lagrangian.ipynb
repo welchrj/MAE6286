{
 "cells": [
  {
   "cell_type": "code",
   "execution_count": 43,
   "metadata": {},
   "outputs": [],
   "source": [
    "import numpy as np\n",
    "import matplotlib.pyplot as plt\n",
    "%matplotlib inline\n",
    "# Lagrangian\n",
    "t = np.linspace(1,50.0,num=100)\n",
    "a = 1\n",
    "x10 = 5\n",
    "x20 = 10\n",
    "x30 = 2\n",
    "x1 = x10*t**2\n",
    "x2 = x20*.5*np.exp(a*t) + (2/t)*x10\n",
    "x3 = x30\n",
    "\n",
    "v1 = 2*x10*t\n",
    "v2 = (a/2)*x20*np.exp(a*t) - (2/t**2)*x10\n",
    "v3 = 0\n",
    "\n",
    "a1 = 2*x10*(t/t)\n",
    "a2 = (a**2/2)*x20*np.exp(a*t) + (4/t**4)*x10\n",
    "a3 = 0\n"
   ]
  },
  {
   "cell_type": "code",
   "execution_count": 44,
   "metadata": {},
   "outputs": [],
   "source": [
    "# Eulerian\n",
    "v1e = 2*x1/t\n",
    "v2e = a*x2 - (2*a*t-2*x1)/t**4\n",
    "v3e = 0\n",
    "\n",
    "a1e = (2*x1)/(t**2)\n",
    "a2e = a**2*x2 - ((2*t**3*x1 + 4*x1)/t**6)\n",
    "a3e = 0"
   ]
  },
  {
   "cell_type": "code",
   "execution_count": 45,
   "metadata": {},
   "outputs": [
    {
     "data": {
      "text/plain": [
       "[<matplotlib.lines.Line2D at 0x1b5aeb345f8>]"
      ]
     },
     "execution_count": 45,
     "metadata": {},
     "output_type": "execute_result"
    },
    {
     "data": {
      "image/png": "[encoded data removed]",
      "text/plain": [
       "<Figure size 432x288 with 1 Axes>"
      ]
     },
     "metadata": {
      "needs_background": "light"
     },
     "output_type": "display_data"
    }
   ],
   "source": [
    "plt.plot(t,a1)\n",
    "plt.plot(t,a1e)\n"
   ]
  },
  {
   "cell_type": "code",
   "execution_count": null,
   "metadata": {},
   "outputs": [],
   "source": []
  }
 ],
 "metadata": {
  "kernelspec": {
   "display_name": "Python 3",
   "language": "python",
   "name": "python3"
  },
  "language_info": {
   "codemirror_mode": {
    "name": "ipython",
    "version": 3
   },
   "file_extension": ".py",
   "mimetype": "text/x-python",
   "name": "python",
   "nbconvert_exporter": "python",
   "pygments_lexer": "ipython3",
   "version": "3.6.5"
  }
 },
 "nbformat": 4,
 "nbformat_minor": 2
}
