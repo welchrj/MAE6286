{
 "cells": [
  {
   "cell_type": "code",
   "execution_count": 3,
   "metadata": {},
   "outputs": [],
   "source": [
    "# 2D Heat diffusion equation\n",
    "#Assuming constant thermal conductivity\n",
    "#Dt/dt = alpha(d2T/dx2 + d2Tdy2'''"
   ]
  },
  {
   "cell_type": "code",
   "execution_count": 4,
   "metadata": {},
   "outputs": [],
   "source": [
    "import numpy as np\n",
    "from matplotlib import pyplot as plt\n",
    "%matplotlib inline"
   ]
  },
  {
   "cell_type": "code",
   "execution_count": 6,
   "metadata": {},
   "outputs": [
    {
     "data": {
      "text/plain": [
       "array([[ 1,  2,  3,  4,  5],\n",
       "       [ 6,  7,  8,  9, 10],\n",
       "       [11, 12, 13, 14, 15],\n",
       "       [16, 17, 18, 19, 20],\n",
       "       [21, 22, 23, 24, 25]])"
      ]
     },
     "execution_count": 6,
     "metadata": {},
     "output_type": "execute_result"
    }
   ],
   "source": [
    "T = np.arange(1, 26, 1).reshape(5,5)\n",
    "T"
   ]
  },
  {
   "cell_type": "code",
   "execution_count": 13,
   "metadata": {},
   "outputs": [],
   "source": [
    "L = 0.01\n",
    "nx, ny = 21, 21\n",
    "dx = L / (nx-1)\n",
    "dy = L / (ny-1)\n",
    "x = np.linspace(0.0, L, num=nx)\n",
    "y = np.linspace(0.0, L, num=ny)\n",
    "\n",
    "alpha = 1e-4\n",
    "\n",
    "# Initial Conditions\n",
    "T0 = np.full((ny, nx), 20.0)\n",
    "# print(T0)\n",
    "# Include Boundary Conditions\n",
    "T0[0, :] = 100.0 # Bottom boundary\n",
    "T0[:, 0] = 100.0 # Left boundary"
   ]
  },
  {
   "cell_type": "code",
   "execution_count": 22,
   "metadata": {},
   "outputs": [],
   "source": [
    "def ftcs(T0, nt, dt, dx, dy, alpha, qx=0.0, qy=0.0):\n",
    "    T = T0.copy()\n",
    "    sigma_x = alpha * dt/dx**2\n",
    "    sigma_y = alpha * dt/dy**2\n",
    "    ny, nx = T.shape\n",
    "    I, J = nx // 2, ny // 2\n",
    "    for n in range(nt):\n",
    "        T[1:-1, 1:-1] = (T[1:-1, 1:-1] + sigma_x * ( \n",
    "                         T[1:-1, :-2] - 2 * T[1:-1, 1:-1] +\n",
    "                         T[1:-1, 2:]) + sigma_y *\n",
    "                         (T[:-2, 1:-1] - 2 * T[1:-1,1:-1] + \n",
    "                         T[2:, 1:-1]))\n",
    "        # Update boundary values (Neumann condition).\n",
    "        \n",
    "        T[:,-1] = T[:,-2] + qx * dx # Right boundary\n",
    "        T[-1,:] = T[-2,:] + qy * dy # Top boundary\n",
    "        # Set center temp limit to 70 deg.\n",
    "        \n",
    "        if T[J, I] >= 70.0:\n",
    "            break\n",
    "    print('Temperature: {0}, Time step: {1}'.format(T[J,I],\n",
    "                                                    n + 1))\n",
    "    return T\n"
   ]
  },
  {
   "cell_type": "code",
   "execution_count": 77,
   "metadata": {},
   "outputs": [
    {
     "name": "stdout",
     "output_type": "stream",
     "text": [
      "Temperature: 70.02138294076661, Time step: 256\n"
     ]
    }
   ],
   "source": [
    "nt = 500\n",
    "sigma = .25\n",
    "# Using the minimum value between dx and dy ensures stabilititty\n",
    "dt = sigma * min(dx, dy)**2 / alpha\n",
    "\n",
    "T = ftcs(T0, nt, dt, dx, dy, alpha)\n"
   ]
  },
  {
   "cell_type": "code",
   "execution_count": 78,
   "metadata": {},
   "outputs": [
    {
     "data": {
      "image/png": "[encoded data removed]",
      "text/plain": [
       "<Figure size 576x360 with 2 Axes>"
      ]
     },
     "metadata": {
      "needs_background": "light"
     },
     "output_type": "display_data"
    }
   ],
   "source": [
    "plt.figure(figsize=(8.0, 5.0))\n",
    "plt.xlabel('x [cm]')\n",
    "plt.ylabel('y [cm]')\n",
    "contf = plt.contourf(x * 100, y * 100, T, cmap='jet')\n",
    "cbar = plt.colorbar(contf)\n",
    "cbar.set_label('Temperature [C]')"
   ]
  },
  {
   "cell_type": "code",
   "execution_count": null,
   "metadata": {},
   "outputs": [],
   "source": []
  },
  {
   "cell_type": "code",
   "execution_count": null,
   "metadata": {},
   "outputs": [],
   "source": []
  }
 ],
 "metadata": {
  "kernelspec": {
   "display_name": "Python 3",
   "language": "python",
   "name": "python3"
  },
  "language_info": {
   "codemirror_mode": {
    "name": "ipython",
    "version": 3
   },
   "file_extension": ".py",
   "mimetype": "text/x-python",
   "name": "python",
   "nbconvert_exporter": "python",
   "pygments_lexer": "ipython3",
   "version": "3.7.3"
  }
 },
 "nbformat": 4,
 "nbformat_minor": 2
}
