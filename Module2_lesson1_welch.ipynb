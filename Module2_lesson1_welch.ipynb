{
 "cells": [
  {
   "cell_type": "markdown",
   "metadata": {},
   "source": [
    "1D Linear Convection"
   ]
  },
  {
   "cell_type": "code",
   "execution_count": 3,
   "metadata": {},
   "outputs": [],
   "source": [
    "import numpy as np\n",
    "from matplotlib import pyplot as plt\n",
    "%matplotlib inline"
   ]
  },
  {
   "cell_type": "code",
   "execution_count": 113,
   "metadata": {},
   "outputs": [],
   "source": [
    "# Two independent variabls, time and space, so there needs to be two independent grids.\n",
    "# Define the grids as follows\n",
    "\n",
    "# Number of X-locations in the domain\n",
    "nx = 100 # steps in x-direction\n",
    "L = 2.0\n",
    "dx = L / (nx -1)\n",
    "nt = 25 # time steps\n",
    "dt = 0.02\n",
    "c = 1 # The convection speed"
   ]
  },
  {
   "cell_type": "code",
   "execution_count": 114,
   "metadata": {},
   "outputs": [],
   "source": [
    "# Create a numpy array to store locations of space.\n",
    "x = np.linspace(0.0, L, num = nx)\n"
   ]
  },
  {
   "cell_type": "code",
   "execution_count": 115,
   "metadata": {},
   "outputs": [
    {
     "name": "stdout",
     "output_type": "stream",
     "text": [
      "(array([25, 26, 27, 28, 29, 30, 31, 32, 33, 34, 35, 36, 37, 38, 39, 40, 41,\n",
      "       42, 43, 44, 45, 46, 47, 48, 49], dtype=int64),)\n"
     ]
    }
   ],
   "source": [
    "# Set initial value of function u(x,t), that has 1 for all values except between x=0.5 to 1, u(x,t)=2 \n",
    "u0 = np.ones(nx)\n",
    "mask = np.where((x >= 0.5) & (x <= 1))  # create mask that gives the location where x is between 0.5 and 1\n",
    "print(mask)"
   ]
  },
  {
   "cell_type": "code",
   "execution_count": 116,
   "metadata": {},
   "outputs": [],
   "source": [
    "# Grab all elements where the indices are set in the mask in the previous cell\n",
    "u0[mask] = 2.0"
   ]
  },
  {
   "cell_type": "code",
   "execution_count": null,
   "metadata": {},
   "outputs": [],
   "source": []
  },
  {
   "cell_type": "code",
   "execution_count": 117,
   "metadata": {},
   "outputs": [],
   "source": [
    "def plot_figure(x, u0, u):\n",
    "    plt.figure(figsize = (4.0, 4.0))\n",
    "    plt.xlabel('x')\n",
    "    plt.ylabel('u')\n",
    "    plt.grid()\n",
    "    plt.plot(x, u0, label = 'Initial')\n",
    "    plt.plot(x, u, label = 'Current')\n",
    "    plt.legend()\n",
    "    plt.xlim(0.0, 2.0)\n",
    "    plt.ylim(0.0, 2.5)       "
   ]
  },
  {
   "cell_type": "code",
   "execution_count": 118,
   "metadata": {},
   "outputs": [
    {
     "data": {
      "image/png": "[encoded data removed]",
      "text/plain": [
       "<Figure size 288x288 with 1 Axes>"
      ]
     },
     "metadata": {
      "needs_background": "light"
     },
     "output_type": "display_data"
    }
   ],
   "source": [
    "plot_figure(x, u0, u0\n",
    "           )"
   ]
  },
  {
   "cell_type": "code",
   "execution_count": 119,
   "metadata": {},
   "outputs": [],
   "source": [
    "# Make a copy of u0 to u to allocate new space in memory for the array, u and set u to the same values as u0 (initial).\n",
    "u = u0.copy()\n",
    "for n in range(nt):\n",
    "    un = u.copy() # array to store values from previous time step.\n",
    "    for i in range(1, nx):\n",
    "        u[i] = un[i] - c * dt / dx * (un[i] - un[i-1])\n",
    "        "
   ]
  },
  {
   "cell_type": "code",
   "execution_count": 120,
   "metadata": {},
   "outputs": [
    {
     "data": {
      "image/png": "[encoded data removed]",
      "text/plain": [
       "<Figure size 288x288 with 1 Axes>"
      ]
     },
     "metadata": {
      "needs_background": "light"
     },
     "output_type": "display_data"
    }
   ],
   "source": [
    "plot_figure(x, u0, u)"
   ]
  },
  {
   "cell_type": "markdown",
   "metadata": {},
   "source": [
    "    1D Non-linear convection"
   ]
  },
  {
   "cell_type": "code",
   "execution_count": 126,
   "metadata": {},
   "outputs": [],
   "source": [
    "# Instead of c you have an index i of u at time level n.\n",
    "\n",
    "for n in range(nt):\n",
    "    un = u.copy()\n",
    "    for i in range(1, nx):\n",
    "        u[i] = un[i] - u[i] * dt / dx * (un[i] - un[i-1])\n",
    "        "
   ]
  },
  {
   "cell_type": "code",
   "execution_count": 125,
   "metadata": {},
   "outputs": [
    {
     "data": {
      "image/png": "[encoded data removed]",
      "text/plain": [
       "<Figure size 288x288 with 1 Axes>"
      ]
     },
     "metadata": {
      "needs_background": "light"
     },
     "output_type": "display_data"
    }
   ],
   "source": [
    "plot_figure(x, u0, u)"
   ]
  },
  {
   "cell_type": "code",
   "execution_count": 127,
   "metadata": {},
   "outputs": [],
   "source": [
    "for n in range(nt):\n",
    "    un = u.copy()\n",
    "    for i in range(1, nx):\n",
    "        u[i] = un[i] - u[i] * dt / dx * (un[i] - un[i-1])\n",
    "    u[1:] = un[1:] - un[1:] * dt / dx * (un[1:] - un[:-1])"
   ]
  },
  {
   "cell_type": "code",
   "execution_count": null,
   "metadata": {},
   "outputs": [],
   "source": [
    "plot_figure(x, u0, u)"
   ]
  }
 ],
 "metadata": {
  "kernelspec": {
   "display_name": "Python 3",
   "language": "python",
   "name": "python3"
  },
  "language_info": {
   "codemirror_mode": {
    "name": "ipython",
    "version": 3
   },
   "file_extension": ".py",
   "mimetype": "text/x-python",
   "name": "python",
   "nbconvert_exporter": "python",
   "pygments_lexer": "ipython3",
   "version": "3.6.5"
  }
 },
 "nbformat": 4,
 "nbformat_minor": 2
}
