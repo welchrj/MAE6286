{
 "cells": [
  {
   "cell_type": "code",
   "execution_count": 147,
   "metadata": {},
   "outputs": [
    {
     "data": {
      "text/plain": [
       "'Jacobi and Gauss-seidel methods'"
      ]
     },
     "execution_count": 147,
     "metadata": {},
     "output_type": "execute_result"
    }
   ],
   "source": [
    "'''Jacobi and Gauss-seidel methods'''"
   ]
  },
  {
   "cell_type": "code",
   "execution_count": 148,
   "metadata": {},
   "outputs": [],
   "source": [
    "import numpy\n",
    "from matplotlib import pyplot"
   ]
  },
  {
   "cell_type": "code",
   "execution_count": 177,
   "metadata": {},
   "outputs": [
    {
     "data": {
      "text/plain": [
       "array([[0.5, 0.5, 0.5, 0.5, 0.5],\n",
       "       [0.5, 0.5, 0.5, 0.5, 0.5],\n",
       "       [0.5, 0.5, 0.5, 0.5, 0.5],\n",
       "       [0.5, 0.5, 0.5, 0.5, 0.5],\n",
       "       [0.5, 0.5, 0.5, 0.5, 0.5]])"
      ]
     },
     "execution_count": 177,
     "metadata": {},
     "output_type": "execute_result"
    }
   ],
   "source": [
    "# Initialize grid\n",
    "nx = 5\n",
    "ny = 5\n",
    "delta = 0.25\n",
    "\n",
    "x = numpy.linspace(0.0,1.0, nx)\n",
    "y = numpy.linspace(0.0,1.0, ny)\n",
    "u0 = numpy.zeros((ny,nx))\n",
    "f = u0.copy()\n",
    "f = f+0.5\n",
    "u0[:,0] = 1.0\n",
    "u0[-1,:] = 1.0\n",
    "u0[0,:] = 1.0\n",
    "f"
   ]
  },
  {
   "cell_type": "code",
   "execution_count": 246,
   "metadata": {},
   "outputs": [],
   "source": [
    "def jacobi2d(u0, delta, f, tol = 1e-6, maxiter=10000):\n",
    "    \n",
    "    u = u0.copy()\n",
    "    diff = tol+1\n",
    "    ite = 0\n",
    "    while diff > tol and ite < maxiter:\n",
    "        un = u.copy()\n",
    "        for j in range(1, ny-1):\n",
    "            for i in range(1, nx-1):\n",
    "                u[j, i] = 0.25*(un[j-1,i] + un[j+1,i] + un[j,i+1] +\n",
    "                                un[j,i-1]-f[j,i])\n",
    "        diff = numpy.linalg.norm(u-un)/numpy.linalg.norm(un)\n",
    "        ite += 1\n",
    "    return u, ite\n",
    "            \n",
    "    "
   ]
  },
  {
   "cell_type": "code",
   "execution_count": 247,
   "metadata": {},
   "outputs": [
    {
     "data": {
      "text/plain": [
       "34"
      ]
     },
     "execution_count": 247,
     "metadata": {},
     "output_type": "execute_result"
    }
   ],
   "source": [
    "ans1, count1 = jacobi2d(u0, delta, f)\n",
    "count1"
   ]
  },
  {
   "cell_type": "code",
   "execution_count": 248,
   "metadata": {},
   "outputs": [
    {
     "data": {
      "text/plain": [
       "array([[1., 1., 1., 1., 1.],\n",
       "       [1., 0., 0., 0., 0.],\n",
       "       [1., 0., 0., 0., 0.],\n",
       "       [1., 0., 0., 0., 0.],\n",
       "       [1., 1., 1., 1., 1.]])"
      ]
     },
     "execution_count": 248,
     "metadata": {},
     "output_type": "execute_result"
    },
    {
     "data": {
      "image/png": "[encoded data removed]",
      "text/plain": [
       "<Figure size 360x360 with 2 Axes>"
      ]
     },
     "metadata": {
      "needs_background": "light"
     },
     "output_type": "display_data"
    }
   ],
   "source": [
    "# Plot the filled contour of the temperature.\n",
    "pyplot.figure(figsize=(5.0, 5.0))\n",
    "pyplot.xlabel('x [m]')\n",
    "pyplot.ylabel('y [m]')\n",
    "contf = pyplot.contourf(x, y, ans1)\n",
    "cbar = pyplot.colorbar(contf)\n",
    "u0"
   ]
  },
  {
   "cell_type": "code",
   "execution_count": 249,
   "metadata": {},
   "outputs": [],
   "source": [
    "def poisson2d_gauss_seidel(u0, f, maxiter=20000, tol=1e-6):\n",
    "    u = u0.copy()\n",
    "    diff = tol+1\n",
    "    ite = 0\n",
    "    while diff > tol and ite < maxiter:\n",
    "        un = u.copy()\n",
    "        for j in range(1, ny-1):\n",
    "            for i in range(1, nx-1):\n",
    "                u[i,j] = 0.25 * (u[i-1,j] + u[i+1,j] + \n",
    "                                 u[i,j-1] + u[i,j+1] - f[i,j])\n",
    "        diff = numpy.linalg.norm(u-un)/numpy.linalg.norm(un)\n",
    "        ite += 1\n",
    "    \n",
    "    return u, ite"
   ]
  },
  {
   "cell_type": "code",
   "execution_count": 250,
   "metadata": {},
   "outputs": [],
   "source": [
    "ans2, count = poisson2d_gauss_seidel(u0,f)"
   ]
  },
  {
   "cell_type": "code",
   "execution_count": 251,
   "metadata": {},
   "outputs": [
    {
     "name": "stdout",
     "output_type": "stream",
     "text": [
      "19\n"
     ]
    },
    {
     "data": {
      "text/plain": [
       "array([[1., 1., 1., 1., 1.],\n",
       "       [1., 0., 0., 0., 0.],\n",
       "       [1., 0., 0., 0., 0.],\n",
       "       [1., 0., 0., 0., 0.],\n",
       "       [1., 1., 1., 1., 1.]])"
      ]
     },
     "execution_count": 251,
     "metadata": {},
     "output_type": "execute_result"
    },
    {
     "data": {
      "image/png": "[encoded data removed]",
      "text/plain": [
       "<Figure size 360x360 with 2 Axes>"
      ]
     },
     "metadata": {
      "needs_background": "light"
     },
     "output_type": "display_data"
    }
   ],
   "source": [
    "pyplot.figure(figsize=(5.0, 5.0))\n",
    "pyplot.xlabel('x [m]')\n",
    "pyplot.ylabel('y [m]')\n",
    "contf = pyplot.contourf(x, y, ans2)\n",
    "cbar = pyplot.colorbar(contf)\n",
    "print(count)\n",
    "u0"
   ]
  },
  {
   "cell_type": "code",
   "execution_count": 252,
   "metadata": {},
   "outputs": [],
   "source": [
    "def sor(u0, f, omega=0.9, maxiter=10000, tol=1e-6):\n",
    "    u = u0.copy()\n",
    "    diff = tol+1\n",
    "    ite = 0\n",
    "    while diff > tol and ite < maxiter:\n",
    "        un = u.copy()\n",
    "        for j in range(1, ny-1):\n",
    "            for i in range(1, nx-1):\n",
    "                u[i,j] = ((1-omega)*un[j,i] +\n",
    "                          0.25*omega*(u[i-1,j] +\n",
    "                                      u[i,j-1] +\n",
    "                                      un[i,j+1]+\n",
    "                                      un[i+1,j]-\n",
    "                                      f[i,j]))\n",
    "        diff = numpy.linalg.norm(u-un)/numpy.linalg.norm(un)\n",
    "        ite += 1\n",
    "    return u, ite"
   ]
  },
  {
   "cell_type": "code",
   "execution_count": 253,
   "metadata": {},
   "outputs": [],
   "source": [
    "ans3, count2 = sor(u0,f)"
   ]
  },
  {
   "cell_type": "code",
   "execution_count": 254,
   "metadata": {},
   "outputs": [
    {
     "data": {
      "image/png": "[encoded data removed]",
      "text/plain": [
       "<Figure size 360x360 with 2 Axes>"
      ]
     },
     "metadata": {
      "needs_background": "light"
     },
     "output_type": "display_data"
    }
   ],
   "source": [
    "pyplot.figure(figsize=(5.0, 5.0))\n",
    "pyplot.xlabel('x [m]')\n",
    "pyplot.ylabel('y [m]')\n",
    "contf = pyplot.contourf(x, y, ans3)\n",
    "cbar = pyplot.colorbar(contf)\n"
   ]
  },
  {
   "cell_type": "code",
   "execution_count": 223,
   "metadata": {},
   "outputs": [],
   "source": [
    "import numba\n",
    "from numba import jit"
   ]
  },
  {
   "cell_type": "code",
   "execution_count": null,
   "metadata": {},
   "outputs": [],
   "source": [
    "@jit(nopython=True)\n",
    "def gs_fancy_jit(u,b,iters):"
   ]
  },
  {
   "cell_type": "code",
   "execution_count": null,
   "metadata": {},
   "outputs": [],
   "source": []
  }
 ],
 "metadata": {
  "kernelspec": {
   "display_name": "Python 3",
   "language": "python",
   "name": "python3"
  },
  "language_info": {
   "codemirror_mode": {
    "name": "ipython",
    "version": 3
   },
   "file_extension": ".py",
   "mimetype": "text/x-python",
   "name": "python",
   "nbconvert_exporter": "python",
   "pygments_lexer": "ipython3",
   "version": "3.7.3"
  }
 },
 "nbformat": 4,
 "nbformat_minor": 2
}
