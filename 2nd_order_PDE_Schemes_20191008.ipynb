{
 "cells": [
  {
   "cell_type": "markdown",
   "metadata": {},
   "source": [
    "2nd order linear PDE schemes, done in class Oct 8, 2019"
   ]
  },
  {
   "cell_type": "code",
   "execution_count": 1,
   "metadata": {},
   "outputs": [],
   "source": [
    "import numpy\n",
    "from matplotlib import pyplot as plt\n",
    "import ipywidgets\n",
    "%matplotlib inline"
   ]
  },
  {
   "cell_type": "code",
   "execution_count": 2,
   "metadata": {},
   "outputs": [],
   "source": [
    "plt.rc('font', family='serif', size=16)"
   ]
  },
  {
   "cell_type": "code",
   "execution_count": 3,
   "metadata": {},
   "outputs": [],
   "source": [
    "def rho_red_light(x, rho_max):\n",
    "    rho = numpy.full_like(x, rho_max)\n",
    "#     rho = rho_max * numpy.ones_like(x)\n",
    "    mask = numpy.where(x < 3.0)\n",
    "    rho[mask] /= 2\n",
    "#     rho[mask] = rho_max/2\n",
    "    return rho"
   ]
  },
  {
   "cell_type": "code",
   "execution_count": 4,
   "metadata": {},
   "outputs": [],
   "source": [
    "# Set Parameters.\n",
    "nx = 81\n",
    "L = 4.0\n",
    "dx = L / (nx-1)\n",
    "x = numpy.linspace(0.0, L, num = nx)\n",
    "\n",
    "rho_max = 10.0\n",
    "u_max = 1.0\n",
    "\n",
    "rho0 = rho_red_light(x, rho_max)"
   ]
  },
  {
   "cell_type": "code",
   "execution_count": 5,
   "metadata": {},
   "outputs": [],
   "source": [
    "def plot(n, x, rho_hist):\n",
    "    plt.figure()\n",
    "    plt.grid()\n",
    "    plt.title('Time step: {}'.format(n))\n",
    "    plt.xlabel('Road [km]')\n",
    "    plt.ylabel('Traffic density [cars/hr]')\n",
    "    plt.plot(x, rho_hist[n])\n",
    "    plt.xlim(x[0], x[-1])\n",
    "    plt.ylim(4.0, 11.0)\n",
    "    plt.show()"
   ]
  },
  {
   "cell_type": "code",
   "execution_count": 6,
   "metadata": {},
   "outputs": [
    {
     "data": {
      "image/png": "[encoded data removed]",
      "text/plain": [
       "<Figure size 432x288 with 1 Axes>"
      ]
     },
     "metadata": {
      "needs_background": "light"
     },
     "output_type": "display_data"
    }
   ],
   "source": [
    "plot(0, x, [rho0])"
   ]
  },
  {
   "cell_type": "code",
   "execution_count": 23,
   "metadata": {},
   "outputs": [],
   "source": [
    "def traffic_speed(rho, u_max, rho_max):\n",
    "    return u_max * (1-rho/rho_max)\n",
    "\n",
    "def traffic_flux(rho, u_max, rho_max):\n",
    "    return rho * traffic_speed(rho, u_max, rho_max)\n"
   ]
  },
  {
   "cell_type": "code",
   "execution_count": 24,
   "metadata": {},
   "outputs": [],
   "source": [
    "def interactive_plot(x, rho_hist):\n",
    "    nt = len(rho_hist) - 1\n",
    "    nt_slider = ipywidgets.IntSlider(value=0, min=0, max=nt, step=1,\n",
    "                                     description='Time step')\n",
    "    w = ipywidgets.interactive(plot, n=nt_slider,\n",
    "                              x=ipywidgets.fixed(x),\n",
    "                              rho_hist=ipywidgets.fixed(rho_hist))\n",
    "    \n",
    "    return w"
   ]
  },
  {
   "cell_type": "code",
   "execution_count": 29,
   "metadata": {},
   "outputs": [
    {
     "data": {
      "application/vnd.jupyter.widget-view+json": {
       "model_id": "b278f01c91404333bbd5c8817269ced6",
       "version_major": 2,
       "version_minor": 0
      },
      "text/plain": [
       "interactive(children=(IntSlider(value=0, description='Time step', max=0), Output()), _dom_classes=('widget-int…"
      ]
     },
     "metadata": {},
     "output_type": "display_data"
    }
   ],
   "source": [
    "interactive_plot(x, [rho0])"
   ]
  },
  {
   "cell_type": "code",
   "execution_count": 57,
   "metadata": {},
   "outputs": [],
   "source": [
    "def lax_freidrichs(rho0, nt, dt, dx, u_max, rho_max):\n",
    "    rho_hist = [numpy.copy(rho0)]\n",
    "    rho = rho0.copy()\n",
    "    nx = len(rho0)\n",
    "    for j in range(nt):\n",
    "        rhon = rho.copy()\n",
    "        F = traffic_flux(rhon, u_max, rho_max)\n",
    "        for i in range(1, nx-1):\n",
    "            rho[i] = 0.5*(rhon[i-1] + rho[i+1]) - (dt/(2*dx)) * (F[i+1] - F[i-1])\n",
    "#         rho[1:-1] = 0.5 * (rhon[:-2] + rhon[2:]) - dt * (F[2:] - F[:-2] / dx)\n",
    "        rho_hist.append(rho.copy())\n",
    "        \n",
    "    return rho_hist # List of numpy arrays"
   ]
  },
  {
   "cell_type": "code",
   "execution_count": 61,
   "metadata": {},
   "outputs": [
    {
     "data": {
      "application/vnd.jupyter.widget-view+json": {
       "model_id": "46b412b1c14e415281afa65a8fb7a130",
       "version_major": 2,
       "version_minor": 0
      },
      "text/plain": [
       "interactive(children=(IntSlider(value=0, description='Time step', max=40), Output()), _dom_classes=('widget-in…"
      ]
     },
     "metadata": {},
     "output_type": "display_data"
    }
   ],
   "source": [
    "sigma = 1.0\n",
    "dt = sigma * dx/u_max\n",
    "nt = 40\n",
    "rho_hist = lax_freidrichs(rho0, nt, dt, dx, u_max, rho_max)\n",
    "\n",
    "interactive_plot(x, rho_hist)"
   ]
  },
  {
   "cell_type": "code",
   "execution_count": 88,
   "metadata": {},
   "outputs": [
    {
     "data": {
      "application/vnd.jupyter.widget-view+json": {
       "model_id": "5037f236d34c47b281b11ef4d4c9a932",
       "version_major": 2,
       "version_minor": 0
      },
      "text/plain": [
       "interactive(children=(IntSlider(value=0, description='Time step', max=640), Output()), _dom_classes=('widget-i…"
      ]
     },
     "metadata": {},
     "output_type": "display_data"
    }
   ],
   "source": [
    "sigma = 1/16\n",
    "dt = sigma * dx / u_max\n",
    "nt = 40*16\n",
    "#Diffusive error, smooths the curve\n",
    "rho_hist = lax_freidrichs(rho0, nt, dt, dx, u_max, rho_max)\n",
    "\n",
    "interactive_plot(x, rho_hist)"
   ]
  },
  {
   "cell_type": "code",
   "execution_count": 89,
   "metadata": {},
   "outputs": [],
   "source": [
    "def traffic_jacobian(rho0, u_max, rho_max):\n",
    "    J = u_max * (1.0 - 2.0 * rho0/rho_max)\n",
    "    return J\n",
    "\n",
    "def lax_wendroff(rho0, nt, dt, dx, u_max, rho_max):\n",
    "    rho_hist = [numpy.copy(rho0)]\n",
    "    rho = rho0.copy()\n",
    "    for i in range(nt):\n",
    "        rhon = rho.copy()\n",
    "        F = traffic_flux(rhon, u_max, rho_max)\n",
    "        J = traffic_jacobian(rhon, u_max, rho_max)\n",
    "        rho[1:-1] = (rho[1:-1] - (dt/(2*dx)) * (F[2:] - F[:-2]) +\n",
    "                     (dt**2/(4*dx**2)) * ((J[1:-1] + J[2:]) *\n",
    "                                          (F[2:] - F[1:-1]) -\n",
    "                                          (J[:-2] + J[1:-1]) *\n",
    "                                          (F[1:-1] - F[:-2])))\n",
    "        rho_hist.append(rho.copy())\n",
    "    return rho_hist"
   ]
  },
  {
   "cell_type": "code",
   "execution_count": 90,
   "metadata": {},
   "outputs": [
    {
     "data": {
      "application/vnd.jupyter.widget-view+json": {
       "model_id": "a7a0934514044234b42a414564502d30",
       "version_major": 2,
       "version_minor": 0
      },
      "text/plain": [
       "interactive(children=(IntSlider(value=0, description='Time step', max=640), Output()), _dom_classes=('widget-i…"
      ]
     },
     "metadata": {},
     "output_type": "display_data"
    }
   ],
   "source": [
    "rho_hist2 = lax_wendroff(rho0, nt, dt, dx, u_max, rho_max)\n",
    "#Dispersive error, leaves oscillation in the numerical solution.\n",
    "interactive_plot(x, rho_hist2)"
   ]
  },
  {
   "cell_type": "code",
   "execution_count": null,
   "metadata": {},
   "outputs": [],
   "source": []
  },
  {
   "cell_type": "code",
   "execution_count": null,
   "metadata": {},
   "outputs": [],
   "source": []
  }
 ],
 "metadata": {
  "kernelspec": {
   "display_name": "Python 3",
   "language": "python",
   "name": "python3"
  },
  "language_info": {
   "codemirror_mode": {
    "name": "ipython",
    "version": 3
   },
   "file_extension": ".py",
   "mimetype": "text/x-python",
   "name": "python",
   "nbconvert_exporter": "python",
   "pygments_lexer": "ipython3",
   "version": "3.7.3"
  }
 },
 "nbformat": 4,
 "nbformat_minor": 2
}
