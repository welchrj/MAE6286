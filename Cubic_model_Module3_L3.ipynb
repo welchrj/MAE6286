{
 "cells": [
  {
   "cell_type": "markdown",
   "metadata": {},
   "source": [
    "A better model..."
   ]
  },
  {
   "cell_type": "code",
   "execution_count": 3,
   "metadata": {},
   "outputs": [],
   "source": [
    "import sympy\n",
    "import numpy\n",
    "from matplotlib import pyplot as plt\n",
    "import ipywidgets\n",
    "%matplotlib inline"
   ]
  },
  {
   "cell_type": "code",
   "execution_count": 4,
   "metadata": {},
   "outputs": [],
   "source": [
    "sympy.init_printing()\n",
    "(u_max, u_star, rho_max,\n",
    " rho_star, A, B) = sympy.symbols('u_max u_star rho_max rho_star A B')"
   ]
  },
  {
   "cell_type": "code",
   "execution_count": 5,
   "metadata": {},
   "outputs": [],
   "source": [
    "# No traffic flux, max density\n",
    "eq1 = sympy.Eq(0, rho_max*u_max*(1-A*rho_max-B*rho_max**2))\n",
    "# Max flux at rho_star\n",
    "eq2 = sympy.Eq(0, u_max*(1-2*A*rho_star-3*B*rho_star**2))\n",
    "# Velocity at rho_star\n",
    "eq3 = sympy.Eq(u_star, u_max*(1-A*rho_star-B*rho_star**2))"
   ]
  },
  {
   "cell_type": "code",
   "execution_count": 6,
   "metadata": {},
   "outputs": [
    {
     "data": {
      "image/png": "[encoded data removed]",
      "text/latex": [
       "$\\displaystyle - 3 u_{star} = u_{max} \\left(- 2 A \\rho_{star} - 3 B \\rho_{star}^{2} + 1\\right) - 3 u_{max} \\left(- A \\rho_{star} - B \\rho_{star}^{2} + 1\\right)$"
      ],
      "text/plain": [
       "                ⎛                      2    ⎞          ⎛                  2   \n",
       "-3⋅uₛₜₐᵣ = uₘₐₓ⋅⎝-2⋅A⋅ρₛₜₐᵣ - 3⋅B⋅ρₛₜₐᵣ  + 1⎠ - 3⋅uₘₐₓ⋅⎝-A⋅ρₛₜₐᵣ - B⋅ρₛₜₐᵣ  + \n",
       "\n",
       " ⎞\n",
       "1⎠"
      ]
     },
     "execution_count": 6,
     "metadata": {},
     "output_type": "execute_result"
    }
   ],
   "source": [
    "eq4 = sympy.Eq(eq2.lhs - 3*eq3.lhs, eq2.rhs - 3*eq3.rhs)\n",
    "eq4"
   ]
  },
  {
   "cell_type": "code",
   "execution_count": 7,
   "metadata": {},
   "outputs": [
    {
     "data": {
      "image/png": "[encoded data removed]",
      "text/latex": [
       "$\\displaystyle 3 u_{star} = - u_{max} \\left(A \\rho_{star} - 2\\right)$"
      ],
      "text/plain": [
       "3⋅uₛₜₐᵣ = -uₘₐₓ⋅(A⋅ρₛₜₐᵣ - 2)"
      ]
     },
     "execution_count": 7,
     "metadata": {},
     "output_type": "execute_result"
    }
   ],
   "source": [
    "eq4.simplify()"
   ]
  },
  {
   "cell_type": "code",
   "execution_count": 8,
   "metadata": {},
   "outputs": [
    {
     "data": {
      "image/png": "[encoded data removed]",
      "text/latex": [
       "$\\displaystyle \\frac{2 u_{max} - 3 u_{star}}{A u_{max}}$"
      ],
      "text/plain": [
       "2⋅uₘₐₓ - 3⋅uₛₜₐᵣ\n",
       "────────────────\n",
       "     A⋅uₘₐₓ     "
      ]
     },
     "execution_count": 8,
     "metadata": {},
     "output_type": "execute_result"
    }
   ],
   "source": [
    "rho_sol = sympy.solve(eq4, rho_star)[0]\n",
    "rho_sol"
   ]
  },
  {
   "cell_type": "code",
   "execution_count": 9,
   "metadata": {},
   "outputs": [
    {
     "data": {
      "image/png": "[encoded data removed]",
      "text/latex": [
       "$\\displaystyle \\frac{- A \\rho_{max} + 1}{\\rho_{max}^{2}}$"
      ],
      "text/plain": [
       "-A⋅ρₘₐₓ + 1\n",
       "───────────\n",
       "       2   \n",
       "   ρₘₐₓ    "
      ]
     },
     "execution_count": 9,
     "metadata": {},
     "output_type": "execute_result"
    }
   ],
   "source": [
    "B_sol = sympy.solve(eq1, B)[0]\n",
    "B_sol"
   ]
  },
  {
   "cell_type": "code",
   "execution_count": 10,
   "metadata": {},
   "outputs": [
    {
     "data": {
      "image/png": "[encoded data removed]",
      "text/latex": [
       "$\\displaystyle 3 u_{max} - 6 u_{star} - \\frac{3 \\left(2 u_{max} - 3 u_{star}\\right)^{2}}{A \\rho_{max} u_{max}} + \\frac{3 \\left(2 u_{max} - 3 u_{star}\\right)^{2}}{A^{2} \\rho_{max}^{2} u_{max}} = 0$"
      ],
      "text/plain": [
       "                                       2                       2    \n",
       "                   3⋅(2⋅uₘₐₓ - 3⋅uₛₜₐᵣ)    3⋅(2⋅uₘₐₓ - 3⋅uₛₜₐᵣ)     \n",
       "3⋅uₘₐₓ - 6⋅uₛₜₐᵣ - ───────────────────── + ───────────────────── = 0\n",
       "                        A⋅ρₘₐₓ⋅uₘₐₓ             2     2             \n",
       "                                               A ⋅ρₘₐₓ ⋅uₘₐₓ        "
      ]
     },
     "execution_count": 10,
     "metadata": {},
     "output_type": "execute_result"
    }
   ],
   "source": [
    "# Substitutes in eq2, rho_sol into rho_star and B_sol as B\n",
    "quadA = eq2.subs([(rho_star, rho_sol), (B, B_sol)])\n",
    "quadA.simplify()"
   ]
  },
  {
   "cell_type": "code",
   "execution_count": 11,
   "metadata": {},
   "outputs": [
    {
     "data": {
      "image/png": "[encoded data removed]",
      "text/latex": [
       "$\\displaystyle \\left[ \\frac{\\sqrt{- u_{star} \\left(4 u_{max} - 9 u_{star}\\right)} \\left(- 2 u_{max} + 3 u_{star}\\right) + \\left(2 u_{max} - 3 u_{star}\\right)^{2}}{2 \\rho_{max} u_{max} \\left(u_{max} - 2 u_{star}\\right)}, \\  \\frac{\\left(2 u_{max} - 3 u_{star}\\right) \\left(2 u_{max} - 3 u_{star} + \\sqrt{- u_{star} \\left(4 u_{max} - 9 u_{star}\\right)}\\right)}{2 \\rho_{max} u_{max} \\left(u_{max} - 2 u_{star}\\right)}\\right]$"
      ],
      "text/plain": [
       "⎡  ___________________________                                         2      \n",
       "⎢╲╱ -uₛₜₐᵣ⋅(4⋅uₘₐₓ - 9⋅uₛₜₐᵣ) ⋅(-2⋅uₘₐₓ + 3⋅uₛₜₐᵣ) + (2⋅uₘₐₓ - 3⋅uₛₜₐᵣ)   (2⋅u\n",
       "⎢───────────────────────────────────────────────────────────────────────, ────\n",
       "⎣                      2⋅ρₘₐₓ⋅uₘₐₓ⋅(uₘₐₓ - 2⋅uₛₜₐᵣ)                           \n",
       "\n",
       "               ⎛                     ___________________________⎞⎤\n",
       "ₘₐₓ - 3⋅uₛₜₐᵣ)⋅⎝2⋅uₘₐₓ - 3⋅uₛₜₐᵣ + ╲╱ -uₛₜₐᵣ⋅(4⋅uₘₐₓ - 9⋅uₛₜₐᵣ) ⎠⎥\n",
       "─────────────────────────────────────────────────────────────────⎥\n",
       "                 2⋅ρₘₐₓ⋅uₘₐₓ⋅(uₘₐₓ - 2⋅uₛₜₐᵣ)                    ⎦"
      ]
     },
     "execution_count": 11,
     "metadata": {},
     "output_type": "execute_result"
    }
   ],
   "source": [
    "# Solve for A in the quadratic.\n",
    "A_sol = sympy.solve(quadA, A)\n",
    "A_sol"
   ]
  },
  {
   "cell_type": "code",
   "execution_count": 12,
   "metadata": {},
   "outputs": [
    {
     "data": {
      "image/png": "[encoded data removed]",
      "text/latex": [
       "$\\displaystyle -0.0171107219255619$"
      ],
      "text/plain": [
       "-0.0171107219255619"
      ]
     },
     "execution_count": 12,
     "metadata": {},
     "output_type": "execute_result"
    }
   ],
   "source": [
    "# Evaluate the quadratic at the first solved value for A\n",
    "A_val_0 = A_sol[0].evalf(subs={u_star: 0.7, u_max: 1.0, rho_max: 10.0})\n",
    "A_val_0"
   ]
  },
  {
   "cell_type": "code",
   "execution_count": 13,
   "metadata": {},
   "outputs": [
    {
     "data": {
      "image/png": "[encoded data removed]",
      "text/latex": [
       "$\\displaystyle 0.0146107219255619$"
      ],
      "text/plain": [
       "0.0146107219255619"
      ]
     },
     "execution_count": 13,
     "metadata": {},
     "output_type": "execute_result"
    }
   ],
   "source": [
    "# Evaluate the quadratic at the second solved value for A\n",
    "A_val_1 = A_sol[1].evalf(subs={u_star: 0.7, u_max: 1.0, rho_max: 10.0})\n",
    "A_val_1"
   ]
  },
  {
   "cell_type": "code",
   "execution_count": 14,
   "metadata": {},
   "outputs": [
    {
     "data": {
      "image/png": "[encoded data removed]",
      "text/latex": [
       "$\\displaystyle 0.0146107219255619$"
      ],
      "text/plain": [
       "0.0146107219255619"
      ]
     },
     "execution_count": 14,
     "metadata": {},
     "output_type": "execute_result"
    }
   ],
   "source": [
    "# Choose the one that is positive.\n",
    "A_val = max(A_val_0, A_val_1)\n",
    "A_val"
   ]
  },
  {
   "cell_type": "code",
   "execution_count": 15,
   "metadata": {},
   "outputs": [
    {
     "data": {
      "image/png": "[encoded data removed]",
      "text/latex": [
       "$\\displaystyle 0.00853892780744381$"
      ],
      "text/plain": [
       "0.00853892780744381"
      ]
     },
     "execution_count": 15,
     "metadata": {},
     "output_type": "execute_result"
    }
   ],
   "source": [
    "B_val = B_sol.evalf(subs={rho_max: 10.0, A: A_val})\n",
    "B_val"
   ]
  },
  {
   "cell_type": "code",
   "execution_count": 16,
   "metadata": {},
   "outputs": [],
   "source": [
    "def cubic_flux(rho, u_max, A, B):\n",
    "    F = rho*u_max*(1.0 - A*rho - B*rho**2)\n",
    "    return F"
   ]
  },
  {
   "cell_type": "code",
   "execution_count": 17,
   "metadata": {},
   "outputs": [],
   "source": [
    "rho_max = 5.0\n",
    "u_max = 1.0\n",
    "\n",
    "L = 4.0\n",
    "nx = 81\n",
    "dx = L/(nx-1)\n",
    "x = numpy.linspace(0.0,L,num=nx)\n",
    "nt = 30\n",
    "sigma = 1\n",
    "dt = sigma*(dx/u_max)"
   ]
  },
  {
   "cell_type": "code",
   "execution_count": 18,
   "metadata": {},
   "outputs": [],
   "source": [
    "plt.rcParams['font.family']='serif'\n",
    "plt.rcParams['font.size'] = 16"
   ]
  },
  {
   "cell_type": "code",
   "execution_count": 22,
   "metadata": {},
   "outputs": [
    {
     "data": {
      "text/plain": [
       "array([ True,  True,  True,  True,  True,  True,  True,  True,  True,\n",
       "        True,  True,  True,  True,  True,  True,  True,  True,  True,\n",
       "        True,  True,  True,  True,  True,  True,  True,  True,  True,\n",
       "        True,  True,  True,  True,  True,  True,  True,  True,  True,\n",
       "        True,  True,  True,  True, False, False, False, False, False,\n",
       "       False, False, False, False, False, False, False, False, False,\n",
       "       False, False, False, False, False, False, False, False, False,\n",
       "       False, False, False, False, False, False, False, False, False,\n",
       "       False, False, False, False, False, False, False, False, False])"
      ]
     },
     "execution_count": 22,
     "metadata": {},
     "output_type": "execute_result"
    }
   ],
   "source": [
    "rho0 = numpy.zeros_like(x)\n",
    "mask = x < 2.0\n",
    "rho0[mask] = rho_max*x[mask]/2"
   ]
  },
  {
   "cell_type": "code",
   "execution_count": 21,
   "metadata": {},
   "outputs": [
    {
     "data": {
      "text/plain": [
       "[<matplotlib.lines.Line2D at 0x26241810518>]"
      ]
     },
     "execution_count": 21,
     "metadata": {},
     "output_type": "execute_result"
    },
    {
     "data": {
      "image/png": "[encoded data removed]",
      "text/plain": [
       "<Figure size 432x288 with 1 Axes>"
      ]
     },
     "metadata": {
      "needs_background": "light"
     },
     "output_type": "display_data"
    }
   ],
   "source": [
    "plt.plot(x, rho0)"
   ]
  },
  {
   "cell_type": "code",
   "execution_count": 151,
   "metadata": {},
   "outputs": [],
   "source": [
    "def ftbs(rho0, nt, dt, dx, A, B):\n",
    "    rho = rho0.copy()\n",
    "    rho_hist = [rho.copy()]\n",
    "    for n in range(nt):\n",
    "        #rho_new = rho.copy()\n",
    "        F = cubic_flux(rho, u_max, A, B)\n",
    "        rho[1:] = rho[1:] - (dt/dx)*(F[1:]-F[:-1])\n",
    "        \n",
    "        rho_hist.append(rho)\n",
    "        \n",
    "    return rho_hist\n",
    "    "
   ]
  },
  {
   "cell_type": "code",
   "execution_count": 152,
   "metadata": {},
   "outputs": [],
   "source": [
    "sol = ftbs(rho0, nt, dt, dx, A_val, B_val)"
   ]
  },
  {
   "cell_type": "code",
   "execution_count": 140,
   "metadata": {},
   "outputs": [],
   "source": [
    "def myfunction(*args):\n",
    "    print(type(args))\n",
    "    print(*args)\n",
    "    return"
   ]
  },
  {
   "cell_type": "code",
   "execution_count": 141,
   "metadata": {},
   "outputs": [
    {
     "name": "stdout",
     "output_type": "stream",
     "text": [
      "<class 'tuple'>\n",
      "1\n"
     ]
    }
   ],
   "source": [
    "myfunction(1)"
   ]
  },
  {
   "cell_type": "code",
   "execution_count": 142,
   "metadata": {},
   "outputs": [],
   "source": [
    "def lax_freidrichs(rho0, nt, dt, dx, u_max, rho_max, A, B):\n",
    "    rho_hist = [numpy.copy(rho0)]\n",
    "    rho = rho0.copy()\n",
    "    nx = len(rho0)\n",
    "    for j in range(nt):\n",
    "        rhon = rho.copy()\n",
    "        F = cubic_flux(rhon, u_max, A, B)\n",
    "#         for i in range(1, nx-1):\n",
    "#             rho[i] = 0.5*(rhon[i-1] + rho[i+1]) - (dt/(2*dx)) * (F[i+1] - F[i-1])\n",
    "        rho[1:-1] = 0.5 * (rhon[:-2] + rhon[2:]) - dt * (F[2:] - F[:-2] / dx)\n",
    "        rho_hist.append(rho.copy())\n",
    "        \n",
    "    return rho_hist # List of numpy arrays"
   ]
  },
  {
   "cell_type": "code",
   "execution_count": 149,
   "metadata": {},
   "outputs": [
    {
     "name": "stderr",
     "output_type": "stream",
     "text": [
      "/opt/conda/lib/python3.7/site-packages/ipykernel_launcher.py:2: RuntimeWarning: overflow encountered in square\n",
      "  \n",
      "/opt/conda/lib/python3.7/site-packages/ipykernel_launcher.py:10: RuntimeWarning: invalid value encountered in add\n",
      "  # Remove the CWD from sys.path while we load stuff.\n"
     ]
    }
   ],
   "source": [
    "sol2 = lax_freidrichs(rho0, nt, dt, dx, u_max, rho_max, A_val, B_val)"
   ]
  },
  {
   "cell_type": "code",
   "execution_count": 144,
   "metadata": {},
   "outputs": [],
   "source": [
    "def interactive_plot(x, rho_hist):\n",
    "    nt = len(rho_hist) - 1\n",
    "    nt_slider = ipywidgets.IntSlider(value=0, min=0, max=nt, step=1,\n",
    "                                     description='Time step')\n",
    "    w = ipywidgets.interactive(plot, n=nt_slider,\n",
    "                              x=ipywidgets.fixed(x),\n",
    "                              rho_hist=ipywidgets.fixed(rho_hist))\n",
    "    \n",
    "    return w"
   ]
  },
  {
   "cell_type": "code",
   "execution_count": 145,
   "metadata": {},
   "outputs": [],
   "source": [
    "def plot(n, x, rho_hist):\n",
    "    plt.figure()\n",
    "    plt.grid()\n",
    "    plt.title('Time step: {}'.format(n))\n",
    "    plt.xlabel('Road [km]')\n",
    "    plt.ylabel('Traffic density [cars/hr]')\n",
    "    plt.plot(x, rho_hist[n])\n",
    "    plt.xlim(x[0], x[-1])\n",
    "    plt.ylim(0.0, 11.0)\n",
    "    plt.show()"
   ]
  },
  {
   "cell_type": "code",
   "execution_count": 148,
   "metadata": {},
   "outputs": [
    {
     "data": {
      "application/vnd.jupyter.widget-view+json": {
       "model_id": "a1f6355cd93d4d2b9a18105ec25cbf4b",
       "version_major": 2,
       "version_minor": 0
      },
      "text/plain": [
       "interactive(children=(IntSlider(value=0, description='Time step', max=30), Output()), _dom_classes=('widget-in…"
      ]
     },
     "metadata": {},
     "output_type": "display_data"
    }
   ],
   "source": [
    "interactive_plot(x, sol)"
   ]
  },
  {
   "cell_type": "code",
   "execution_count": null,
   "metadata": {},
   "outputs": [],
   "source": []
  },
  {
   "cell_type": "code",
   "execution_count": null,
   "metadata": {},
   "outputs": [],
   "source": []
  }
 ],
 "metadata": {
  "kernelspec": {
   "display_name": "Python 3",
   "language": "python",
   "name": "python3"
  },
  "language_info": {
   "codemirror_mode": {
    "name": "ipython",
    "version": 3
   },
   "file_extension": ".py",
   "mimetype": "text/x-python",
   "name": "python",
   "nbconvert_exporter": "python",
   "pygments_lexer": "ipython3",
   "version": "3.6.5"
  }
 },
 "nbformat": 4,
 "nbformat_minor": 2
}
